{
 "cells": [
  {
   "cell_type": "code",
   "execution_count": 8,
   "metadata": {
    "collapsed": false
   },
   "outputs": [],
   "source": [
    "import nbimporter\n",
    "import utilities\n",
    "import matplotlib.pyplot as plt\n",
    "import numpy as np\n",
    "import pandas as pd\n",
    "import seaborn as sns\n",
    "%matplotlib inline"
   ]
  },
  {
   "cell_type": "markdown",
   "metadata": {},
   "source": [
    "##### We are interested in calculating Response Time, which is the time it takes from 'Dispatch' to 'On Scene' for the firefighters."
   ]
  },
  {
   "cell_type": "code",
   "execution_count": 3,
   "metadata": {
    "collapsed": false
   },
   "outputs": [
    {
     "name": "stdout",
     "output_type": "stream",
     "text": [
      "Opened database successfully\n",
      "SQL QUERY = \n",
      "                        SELECT  I.incident_id, R.responderunit_id, T.responder_id,\n",
      "                                T.timedesc_id, I.typenaturecode_id, I.fireblock, I.fmarespcomp,\n",
      "                                T.realtime\n",
      "                        FROM incident as I\n",
      "                        INNER JOIN inctimes as T\n",
      "                                ON I.incident_id = T.incident_id\n",
      "                        INNER JOIN responder as R\n",
      "                                ON ( I.incident_id = R.incident_id AND T.responder_id = R.responder_id)\n",
      "                        WHERE T.timedesc_id IN (3, 5)\n",
      "                                AND T.responder_id IS NOT NULL;\n",
      "                        \n"
     ]
    }
   ],
   "source": [
    "d = {3 : 'Dispatched', 5 : 'On Scene'}\n",
    "table = utilities.getTimeDataset(d)"
   ]
  },
  {
   "cell_type": "code",
   "execution_count": 4,
   "metadata": {
    "collapsed": false
   },
   "outputs": [
    {
     "data": {
      "text/html": [
       "<div>\n",
       "<table border=\"1\" class=\"dataframe\">\n",
       "  <thead>\n",
       "    <tr style=\"text-align: right;\">\n",
       "      <th></th>\n",
       "      <th></th>\n",
       "      <th></th>\n",
       "      <th></th>\n",
       "      <th>timedesc_id</th>\n",
       "      <th>Dispatched</th>\n",
       "      <th>On Scene</th>\n",
       "    </tr>\n",
       "    <tr>\n",
       "      <th>incident_id</th>\n",
       "      <th>responderunit_id</th>\n",
       "      <th>typenaturecode_id</th>\n",
       "      <th>fireblock</th>\n",
       "      <th>fmarespcomp</th>\n",
       "      <th></th>\n",
       "      <th></th>\n",
       "    </tr>\n",
       "  </thead>\n",
       "  <tbody>\n",
       "    <tr>\n",
       "      <th rowspan=\"2\" valign=\"top\">754221</th>\n",
       "      <th>52.0</th>\n",
       "      <th>147.0</th>\n",
       "      <th>0375</th>\n",
       "      <th>03</th>\n",
       "      <td>2010-01-01 00:07:32</td>\n",
       "      <td>NaT</td>\n",
       "    </tr>\n",
       "    <tr>\n",
       "      <th>221.0</th>\n",
       "      <th>147.0</th>\n",
       "      <th>0375</th>\n",
       "      <th>03</th>\n",
       "      <td>2010-01-01 00:07:32</td>\n",
       "      <td>2010-01-01 00:09:53</td>\n",
       "    </tr>\n",
       "    <tr>\n",
       "      <th rowspan=\"2\" valign=\"top\">754222</th>\n",
       "      <th>58.0</th>\n",
       "      <th>134.0</th>\n",
       "      <th>0727</th>\n",
       "      <th>07</th>\n",
       "      <td>2010-01-01 00:04:24</td>\n",
       "      <td>2010-01-01 00:08:57</td>\n",
       "    </tr>\n",
       "    <tr>\n",
       "      <th>218.0</th>\n",
       "      <th>134.0</th>\n",
       "      <th>0727</th>\n",
       "      <th>07</th>\n",
       "      <td>2010-01-01 00:04:24</td>\n",
       "      <td>2010-01-01 00:07:14</td>\n",
       "    </tr>\n",
       "    <tr>\n",
       "      <th rowspan=\"2\" valign=\"top\">754224</th>\n",
       "      <th>232.0</th>\n",
       "      <th>21.0</th>\n",
       "      <th>1109</th>\n",
       "      <th>11</th>\n",
       "      <td>2010-01-01 00:14:15</td>\n",
       "      <td>2010-01-01 00:17:01</td>\n",
       "    </tr>\n",
       "    <tr>\n",
       "      <th>415.0</th>\n",
       "      <th>21.0</th>\n",
       "      <th>1109</th>\n",
       "      <th>11</th>\n",
       "      <td>2010-01-01 00:14:15</td>\n",
       "      <td>2010-01-01 00:17:36</td>\n",
       "    </tr>\n",
       "    <tr>\n",
       "      <th rowspan=\"2\" valign=\"top\">754225</th>\n",
       "      <th>120.0</th>\n",
       "      <th>125.0</th>\n",
       "      <th>2530</th>\n",
       "      <th>25</th>\n",
       "      <td>2010-01-01 00:16:21</td>\n",
       "      <td>NaT</td>\n",
       "    </tr>\n",
       "    <tr>\n",
       "      <th>229.0</th>\n",
       "      <th>125.0</th>\n",
       "      <th>2530</th>\n",
       "      <th>25</th>\n",
       "      <td>2010-01-01 00:16:21</td>\n",
       "      <td>2010-01-01 00:26:53</td>\n",
       "    </tr>\n",
       "    <tr>\n",
       "      <th rowspan=\"4\" valign=\"top\">754226</th>\n",
       "      <th>56.0</th>\n",
       "      <th>141.0</th>\n",
       "      <th>0133</th>\n",
       "      <th>01</th>\n",
       "      <td>2010-01-01 00:21:17</td>\n",
       "      <td>2010-01-01 00:27:50</td>\n",
       "    </tr>\n",
       "    <tr>\n",
       "      <th>123.0</th>\n",
       "      <th>141.0</th>\n",
       "      <th>0133</th>\n",
       "      <th>01</th>\n",
       "      <td>2010-01-01 00:22:11</td>\n",
       "      <td>2010-01-01 00:22:56</td>\n",
       "    </tr>\n",
       "    <tr>\n",
       "      <th>218.0</th>\n",
       "      <th>141.0</th>\n",
       "      <th>0133</th>\n",
       "      <th>01</th>\n",
       "      <td>2010-01-01 00:21:17</td>\n",
       "      <td>NaT</td>\n",
       "    </tr>\n",
       "    <tr>\n",
       "      <th>230.0</th>\n",
       "      <th>141.0</th>\n",
       "      <th>0133</th>\n",
       "      <th>01</th>\n",
       "      <td>2010-01-01 00:23:33</td>\n",
       "      <td>2010-01-01 00:30:27</td>\n",
       "    </tr>\n",
       "    <tr>\n",
       "      <th rowspan=\"2\" valign=\"top\">754227</th>\n",
       "      <th>30.0</th>\n",
       "      <th>141.0</th>\n",
       "      <th>0109</th>\n",
       "      <th>01</th>\n",
       "      <td>2010-01-01 00:09:02</td>\n",
       "      <td>2010-01-01 00:17:39</td>\n",
       "    </tr>\n",
       "    <tr>\n",
       "      <th>215.0</th>\n",
       "      <th>141.0</th>\n",
       "      <th>0109</th>\n",
       "      <th>01</th>\n",
       "      <td>2010-01-01 00:09:02</td>\n",
       "      <td>2010-01-01 00:19:38</td>\n",
       "    </tr>\n",
       "    <tr>\n",
       "      <th rowspan=\"2\" valign=\"top\">754228</th>\n",
       "      <th>33.0</th>\n",
       "      <th>12.0</th>\n",
       "      <th>0127</th>\n",
       "      <th>01</th>\n",
       "      <td>2010-01-01 00:17:31</td>\n",
       "      <td>NaT</td>\n",
       "    </tr>\n",
       "    <tr>\n",
       "      <th>116.0</th>\n",
       "      <th>12.0</th>\n",
       "      <th>0127</th>\n",
       "      <th>01</th>\n",
       "      <td>2010-01-01 00:17:31</td>\n",
       "      <td>2010-01-01 00:23:24</td>\n",
       "    </tr>\n",
       "    <tr>\n",
       "      <th rowspan=\"3\" valign=\"top\">754229</th>\n",
       "      <th>46.0</th>\n",
       "      <th>147.0</th>\n",
       "      <th>2530</th>\n",
       "      <th>25</th>\n",
       "      <td>2010-01-01 00:19:21</td>\n",
       "      <td>2010-01-01 00:25:06</td>\n",
       "    </tr>\n",
       "    <tr>\n",
       "      <th>218.0</th>\n",
       "      <th>147.0</th>\n",
       "      <th>2530</th>\n",
       "      <th>25</th>\n",
       "      <td>2010-01-01 00:21:26</td>\n",
       "      <td>NaT</td>\n",
       "    </tr>\n",
       "    <tr>\n",
       "      <th>230.0</th>\n",
       "      <th>147.0</th>\n",
       "      <th>2530</th>\n",
       "      <th>25</th>\n",
       "      <td>2010-01-01 00:19:21</td>\n",
       "      <td>NaT</td>\n",
       "    </tr>\n",
       "    <tr>\n",
       "      <th>754230</th>\n",
       "      <th>116.0</th>\n",
       "      <th>155.0</th>\n",
       "      <th>0127</th>\n",
       "      <th>01</th>\n",
       "      <td>2010-01-01 00:25:34</td>\n",
       "      <td>2010-01-01 00:25:34</td>\n",
       "    </tr>\n",
       "  </tbody>\n",
       "</table>\n",
       "</div>"
      ],
      "text/plain": [
       "timedesc_id                                                                   Dispatched  \\\n",
       "incident_id responderunit_id typenaturecode_id fireblock fmarespcomp                       \n",
       "754221      52.0             147.0             0375      03          2010-01-01 00:07:32   \n",
       "            221.0            147.0             0375      03          2010-01-01 00:07:32   \n",
       "754222      58.0             134.0             0727      07          2010-01-01 00:04:24   \n",
       "            218.0            134.0             0727      07          2010-01-01 00:04:24   \n",
       "754224      232.0            21.0              1109      11          2010-01-01 00:14:15   \n",
       "            415.0            21.0              1109      11          2010-01-01 00:14:15   \n",
       "754225      120.0            125.0             2530      25          2010-01-01 00:16:21   \n",
       "            229.0            125.0             2530      25          2010-01-01 00:16:21   \n",
       "754226      56.0             141.0             0133      01          2010-01-01 00:21:17   \n",
       "            123.0            141.0             0133      01          2010-01-01 00:22:11   \n",
       "            218.0            141.0             0133      01          2010-01-01 00:21:17   \n",
       "            230.0            141.0             0133      01          2010-01-01 00:23:33   \n",
       "754227      30.0             141.0             0109      01          2010-01-01 00:09:02   \n",
       "            215.0            141.0             0109      01          2010-01-01 00:09:02   \n",
       "754228      33.0             12.0              0127      01          2010-01-01 00:17:31   \n",
       "            116.0            12.0              0127      01          2010-01-01 00:17:31   \n",
       "754229      46.0             147.0             2530      25          2010-01-01 00:19:21   \n",
       "            218.0            147.0             2530      25          2010-01-01 00:21:26   \n",
       "            230.0            147.0             2530      25          2010-01-01 00:19:21   \n",
       "754230      116.0            155.0             0127      01          2010-01-01 00:25:34   \n",
       "\n",
       "timedesc_id                                                                     On Scene  \n",
       "incident_id responderunit_id typenaturecode_id fireblock fmarespcomp                      \n",
       "754221      52.0             147.0             0375      03                          NaT  \n",
       "            221.0            147.0             0375      03          2010-01-01 00:09:53  \n",
       "754222      58.0             134.0             0727      07          2010-01-01 00:08:57  \n",
       "            218.0            134.0             0727      07          2010-01-01 00:07:14  \n",
       "754224      232.0            21.0              1109      11          2010-01-01 00:17:01  \n",
       "            415.0            21.0              1109      11          2010-01-01 00:17:36  \n",
       "754225      120.0            125.0             2530      25                          NaT  \n",
       "            229.0            125.0             2530      25          2010-01-01 00:26:53  \n",
       "754226      56.0             141.0             0133      01          2010-01-01 00:27:50  \n",
       "            123.0            141.0             0133      01          2010-01-01 00:22:56  \n",
       "            218.0            141.0             0133      01                          NaT  \n",
       "            230.0            141.0             0133      01          2010-01-01 00:30:27  \n",
       "754227      30.0             141.0             0109      01          2010-01-01 00:17:39  \n",
       "            215.0            141.0             0109      01          2010-01-01 00:19:38  \n",
       "754228      33.0             12.0              0127      01                          NaT  \n",
       "            116.0            12.0              0127      01          2010-01-01 00:23:24  \n",
       "754229      46.0             147.0             2530      25          2010-01-01 00:25:06  \n",
       "            218.0            147.0             2530      25                          NaT  \n",
       "            230.0            147.0             2530      25                          NaT  \n",
       "754230      116.0            155.0             0127      01          2010-01-01 00:25:34  "
      ]
     },
     "execution_count": 4,
     "metadata": {},
     "output_type": "execute_result"
    }
   ],
   "source": [
    "# take a look at the results.\n",
    "table.head(20)"
   ]
  },
  {
   "cell_type": "code",
   "execution_count": 5,
   "metadata": {
    "collapsed": false,
    "scrolled": false
   },
   "outputs": [
    {
     "data": {
      "text/html": [
       "<div>\n",
       "<table border=\"1\" class=\"dataframe\">\n",
       "  <thead>\n",
       "    <tr style=\"text-align: right;\">\n",
       "      <th></th>\n",
       "      <th></th>\n",
       "      <th></th>\n",
       "      <th></th>\n",
       "      <th>timedesc_id</th>\n",
       "      <th>Dispatched</th>\n",
       "      <th>On Scene</th>\n",
       "      <th>difference</th>\n",
       "    </tr>\n",
       "    <tr>\n",
       "      <th>incident_id</th>\n",
       "      <th>responderunit_id</th>\n",
       "      <th>typenaturecode_id</th>\n",
       "      <th>fireblock</th>\n",
       "      <th>fmarespcomp</th>\n",
       "      <th></th>\n",
       "      <th></th>\n",
       "      <th></th>\n",
       "    </tr>\n",
       "  </thead>\n",
       "  <tbody>\n",
       "    <tr>\n",
       "      <th rowspan=\"2\" valign=\"top\">754221</th>\n",
       "      <th>52.0</th>\n",
       "      <th>147.0</th>\n",
       "      <th>0375</th>\n",
       "      <th>03</th>\n",
       "      <td>2010-01-01 00:07:32</td>\n",
       "      <td>NaT</td>\n",
       "      <td>NaT</td>\n",
       "    </tr>\n",
       "    <tr>\n",
       "      <th>221.0</th>\n",
       "      <th>147.0</th>\n",
       "      <th>0375</th>\n",
       "      <th>03</th>\n",
       "      <td>2010-01-01 00:07:32</td>\n",
       "      <td>2010-01-01 00:09:53</td>\n",
       "      <td>00:02:21</td>\n",
       "    </tr>\n",
       "    <tr>\n",
       "      <th rowspan=\"2\" valign=\"top\">754222</th>\n",
       "      <th>58.0</th>\n",
       "      <th>134.0</th>\n",
       "      <th>0727</th>\n",
       "      <th>07</th>\n",
       "      <td>2010-01-01 00:04:24</td>\n",
       "      <td>2010-01-01 00:08:57</td>\n",
       "      <td>00:04:33</td>\n",
       "    </tr>\n",
       "    <tr>\n",
       "      <th>218.0</th>\n",
       "      <th>134.0</th>\n",
       "      <th>0727</th>\n",
       "      <th>07</th>\n",
       "      <td>2010-01-01 00:04:24</td>\n",
       "      <td>2010-01-01 00:07:14</td>\n",
       "      <td>00:02:50</td>\n",
       "    </tr>\n",
       "    <tr>\n",
       "      <th rowspan=\"2\" valign=\"top\">754224</th>\n",
       "      <th>232.0</th>\n",
       "      <th>21.0</th>\n",
       "      <th>1109</th>\n",
       "      <th>11</th>\n",
       "      <td>2010-01-01 00:14:15</td>\n",
       "      <td>2010-01-01 00:17:01</td>\n",
       "      <td>00:02:46</td>\n",
       "    </tr>\n",
       "    <tr>\n",
       "      <th>415.0</th>\n",
       "      <th>21.0</th>\n",
       "      <th>1109</th>\n",
       "      <th>11</th>\n",
       "      <td>2010-01-01 00:14:15</td>\n",
       "      <td>2010-01-01 00:17:36</td>\n",
       "      <td>00:03:21</td>\n",
       "    </tr>\n",
       "    <tr>\n",
       "      <th rowspan=\"2\" valign=\"top\">754225</th>\n",
       "      <th>120.0</th>\n",
       "      <th>125.0</th>\n",
       "      <th>2530</th>\n",
       "      <th>25</th>\n",
       "      <td>2010-01-01 00:16:21</td>\n",
       "      <td>NaT</td>\n",
       "      <td>NaT</td>\n",
       "    </tr>\n",
       "    <tr>\n",
       "      <th>229.0</th>\n",
       "      <th>125.0</th>\n",
       "      <th>2530</th>\n",
       "      <th>25</th>\n",
       "      <td>2010-01-01 00:16:21</td>\n",
       "      <td>2010-01-01 00:26:53</td>\n",
       "      <td>00:10:32</td>\n",
       "    </tr>\n",
       "    <tr>\n",
       "      <th rowspan=\"4\" valign=\"top\">754226</th>\n",
       "      <th>56.0</th>\n",
       "      <th>141.0</th>\n",
       "      <th>0133</th>\n",
       "      <th>01</th>\n",
       "      <td>2010-01-01 00:21:17</td>\n",
       "      <td>2010-01-01 00:27:50</td>\n",
       "      <td>00:06:33</td>\n",
       "    </tr>\n",
       "    <tr>\n",
       "      <th>123.0</th>\n",
       "      <th>141.0</th>\n",
       "      <th>0133</th>\n",
       "      <th>01</th>\n",
       "      <td>2010-01-01 00:22:11</td>\n",
       "      <td>2010-01-01 00:22:56</td>\n",
       "      <td>00:00:45</td>\n",
       "    </tr>\n",
       "    <tr>\n",
       "      <th>218.0</th>\n",
       "      <th>141.0</th>\n",
       "      <th>0133</th>\n",
       "      <th>01</th>\n",
       "      <td>2010-01-01 00:21:17</td>\n",
       "      <td>NaT</td>\n",
       "      <td>NaT</td>\n",
       "    </tr>\n",
       "    <tr>\n",
       "      <th>230.0</th>\n",
       "      <th>141.0</th>\n",
       "      <th>0133</th>\n",
       "      <th>01</th>\n",
       "      <td>2010-01-01 00:23:33</td>\n",
       "      <td>2010-01-01 00:30:27</td>\n",
       "      <td>00:06:54</td>\n",
       "    </tr>\n",
       "    <tr>\n",
       "      <th rowspan=\"2\" valign=\"top\">754227</th>\n",
       "      <th>30.0</th>\n",
       "      <th>141.0</th>\n",
       "      <th>0109</th>\n",
       "      <th>01</th>\n",
       "      <td>2010-01-01 00:09:02</td>\n",
       "      <td>2010-01-01 00:17:39</td>\n",
       "      <td>00:08:37</td>\n",
       "    </tr>\n",
       "    <tr>\n",
       "      <th>215.0</th>\n",
       "      <th>141.0</th>\n",
       "      <th>0109</th>\n",
       "      <th>01</th>\n",
       "      <td>2010-01-01 00:09:02</td>\n",
       "      <td>2010-01-01 00:19:38</td>\n",
       "      <td>00:10:36</td>\n",
       "    </tr>\n",
       "    <tr>\n",
       "      <th rowspan=\"2\" valign=\"top\">754228</th>\n",
       "      <th>33.0</th>\n",
       "      <th>12.0</th>\n",
       "      <th>0127</th>\n",
       "      <th>01</th>\n",
       "      <td>2010-01-01 00:17:31</td>\n",
       "      <td>NaT</td>\n",
       "      <td>NaT</td>\n",
       "    </tr>\n",
       "    <tr>\n",
       "      <th>116.0</th>\n",
       "      <th>12.0</th>\n",
       "      <th>0127</th>\n",
       "      <th>01</th>\n",
       "      <td>2010-01-01 00:17:31</td>\n",
       "      <td>2010-01-01 00:23:24</td>\n",
       "      <td>00:05:53</td>\n",
       "    </tr>\n",
       "    <tr>\n",
       "      <th rowspan=\"3\" valign=\"top\">754229</th>\n",
       "      <th>46.0</th>\n",
       "      <th>147.0</th>\n",
       "      <th>2530</th>\n",
       "      <th>25</th>\n",
       "      <td>2010-01-01 00:19:21</td>\n",
       "      <td>2010-01-01 00:25:06</td>\n",
       "      <td>00:05:45</td>\n",
       "    </tr>\n",
       "    <tr>\n",
       "      <th>218.0</th>\n",
       "      <th>147.0</th>\n",
       "      <th>2530</th>\n",
       "      <th>25</th>\n",
       "      <td>2010-01-01 00:21:26</td>\n",
       "      <td>NaT</td>\n",
       "      <td>NaT</td>\n",
       "    </tr>\n",
       "    <tr>\n",
       "      <th>230.0</th>\n",
       "      <th>147.0</th>\n",
       "      <th>2530</th>\n",
       "      <th>25</th>\n",
       "      <td>2010-01-01 00:19:21</td>\n",
       "      <td>NaT</td>\n",
       "      <td>NaT</td>\n",
       "    </tr>\n",
       "    <tr>\n",
       "      <th>754230</th>\n",
       "      <th>116.0</th>\n",
       "      <th>155.0</th>\n",
       "      <th>0127</th>\n",
       "      <th>01</th>\n",
       "      <td>2010-01-01 00:25:34</td>\n",
       "      <td>2010-01-01 00:25:34</td>\n",
       "      <td>00:00:00</td>\n",
       "    </tr>\n",
       "  </tbody>\n",
       "</table>\n",
       "</div>"
      ],
      "text/plain": [
       "timedesc_id                                                                   Dispatched  \\\n",
       "incident_id responderunit_id typenaturecode_id fireblock fmarespcomp                       \n",
       "754221      52.0             147.0             0375      03          2010-01-01 00:07:32   \n",
       "            221.0            147.0             0375      03          2010-01-01 00:07:32   \n",
       "754222      58.0             134.0             0727      07          2010-01-01 00:04:24   \n",
       "            218.0            134.0             0727      07          2010-01-01 00:04:24   \n",
       "754224      232.0            21.0              1109      11          2010-01-01 00:14:15   \n",
       "            415.0            21.0              1109      11          2010-01-01 00:14:15   \n",
       "754225      120.0            125.0             2530      25          2010-01-01 00:16:21   \n",
       "            229.0            125.0             2530      25          2010-01-01 00:16:21   \n",
       "754226      56.0             141.0             0133      01          2010-01-01 00:21:17   \n",
       "            123.0            141.0             0133      01          2010-01-01 00:22:11   \n",
       "            218.0            141.0             0133      01          2010-01-01 00:21:17   \n",
       "            230.0            141.0             0133      01          2010-01-01 00:23:33   \n",
       "754227      30.0             141.0             0109      01          2010-01-01 00:09:02   \n",
       "            215.0            141.0             0109      01          2010-01-01 00:09:02   \n",
       "754228      33.0             12.0              0127      01          2010-01-01 00:17:31   \n",
       "            116.0            12.0              0127      01          2010-01-01 00:17:31   \n",
       "754229      46.0             147.0             2530      25          2010-01-01 00:19:21   \n",
       "            218.0            147.0             2530      25          2010-01-01 00:21:26   \n",
       "            230.0            147.0             2530      25          2010-01-01 00:19:21   \n",
       "754230      116.0            155.0             0127      01          2010-01-01 00:25:34   \n",
       "\n",
       "timedesc_id                                                                     On Scene  \\\n",
       "incident_id responderunit_id typenaturecode_id fireblock fmarespcomp                       \n",
       "754221      52.0             147.0             0375      03                          NaT   \n",
       "            221.0            147.0             0375      03          2010-01-01 00:09:53   \n",
       "754222      58.0             134.0             0727      07          2010-01-01 00:08:57   \n",
       "            218.0            134.0             0727      07          2010-01-01 00:07:14   \n",
       "754224      232.0            21.0              1109      11          2010-01-01 00:17:01   \n",
       "            415.0            21.0              1109      11          2010-01-01 00:17:36   \n",
       "754225      120.0            125.0             2530      25                          NaT   \n",
       "            229.0            125.0             2530      25          2010-01-01 00:26:53   \n",
       "754226      56.0             141.0             0133      01          2010-01-01 00:27:50   \n",
       "            123.0            141.0             0133      01          2010-01-01 00:22:56   \n",
       "            218.0            141.0             0133      01                          NaT   \n",
       "            230.0            141.0             0133      01          2010-01-01 00:30:27   \n",
       "754227      30.0             141.0             0109      01          2010-01-01 00:17:39   \n",
       "            215.0            141.0             0109      01          2010-01-01 00:19:38   \n",
       "754228      33.0             12.0              0127      01                          NaT   \n",
       "            116.0            12.0              0127      01          2010-01-01 00:23:24   \n",
       "754229      46.0             147.0             2530      25          2010-01-01 00:25:06   \n",
       "            218.0            147.0             2530      25                          NaT   \n",
       "            230.0            147.0             2530      25                          NaT   \n",
       "754230      116.0            155.0             0127      01          2010-01-01 00:25:34   \n",
       "\n",
       "timedesc_id                                                           difference  \n",
       "incident_id responderunit_id typenaturecode_id fireblock fmarespcomp              \n",
       "754221      52.0             147.0             0375      03                  NaT  \n",
       "            221.0            147.0             0375      03             00:02:21  \n",
       "754222      58.0             134.0             0727      07             00:04:33  \n",
       "            218.0            134.0             0727      07             00:02:50  \n",
       "754224      232.0            21.0              1109      11             00:02:46  \n",
       "            415.0            21.0              1109      11             00:03:21  \n",
       "754225      120.0            125.0             2530      25                  NaT  \n",
       "            229.0            125.0             2530      25             00:10:32  \n",
       "754226      56.0             141.0             0133      01             00:06:33  \n",
       "            123.0            141.0             0133      01             00:00:45  \n",
       "            218.0            141.0             0133      01                  NaT  \n",
       "            230.0            141.0             0133      01             00:06:54  \n",
       "754227      30.0             141.0             0109      01             00:08:37  \n",
       "            215.0            141.0             0109      01             00:10:36  \n",
       "754228      33.0             12.0              0127      01                  NaT  \n",
       "            116.0            12.0              0127      01             00:05:53  \n",
       "754229      46.0             147.0             2530      25             00:05:45  \n",
       "            218.0            147.0             2530      25                  NaT  \n",
       "            230.0            147.0             2530      25                  NaT  \n",
       "754230      116.0            155.0             0127      01             00:00:00  "
      ]
     },
     "execution_count": 5,
     "metadata": {},
     "output_type": "execute_result"
    }
   ],
   "source": [
    "table[\"difference\"] = table['On Scene'].sub(table['Dispatched'], axis = 0)\n",
    "table[\"difference\"].astype('timedelta64[s]')\n",
    "table.head(20)"
   ]
  },
  {
   "cell_type": "code",
   "execution_count": 9,
   "metadata": {
    "collapsed": false
   },
   "outputs": [
    {
     "data": {
      "text/html": [
       "<div>\n",
       "<table border=\"1\" class=\"dataframe\">\n",
       "  <thead>\n",
       "    <tr style=\"text-align: right;\">\n",
       "      <th></th>\n",
       "      <th></th>\n",
       "      <th></th>\n",
       "      <th></th>\n",
       "      <th>timedesc_id</th>\n",
       "      <th>Dispatched</th>\n",
       "      <th>On Scene</th>\n",
       "      <th>difference</th>\n",
       "      <th>diff_min</th>\n",
       "    </tr>\n",
       "    <tr>\n",
       "      <th>incident_id</th>\n",
       "      <th>responderunit_id</th>\n",
       "      <th>typenaturecode_id</th>\n",
       "      <th>fireblock</th>\n",
       "      <th>fmarespcomp</th>\n",
       "      <th></th>\n",
       "      <th></th>\n",
       "      <th></th>\n",
       "      <th></th>\n",
       "    </tr>\n",
       "  </thead>\n",
       "  <tbody>\n",
       "    <tr>\n",
       "      <th rowspan=\"2\" valign=\"top\">754221</th>\n",
       "      <th>52.0</th>\n",
       "      <th>147.0</th>\n",
       "      <th>0375</th>\n",
       "      <th>03</th>\n",
       "      <td>2010-01-01 00:07:32</td>\n",
       "      <td>NaT</td>\n",
       "      <td>NaT</td>\n",
       "      <td>NaN</td>\n",
       "    </tr>\n",
       "    <tr>\n",
       "      <th>221.0</th>\n",
       "      <th>147.0</th>\n",
       "      <th>0375</th>\n",
       "      <th>03</th>\n",
       "      <td>2010-01-01 00:07:32</td>\n",
       "      <td>2010-01-01 00:09:53</td>\n",
       "      <td>00:02:21</td>\n",
       "      <td>2.350000</td>\n",
       "    </tr>\n",
       "    <tr>\n",
       "      <th rowspan=\"2\" valign=\"top\">754222</th>\n",
       "      <th>58.0</th>\n",
       "      <th>134.0</th>\n",
       "      <th>0727</th>\n",
       "      <th>07</th>\n",
       "      <td>2010-01-01 00:04:24</td>\n",
       "      <td>2010-01-01 00:08:57</td>\n",
       "      <td>00:04:33</td>\n",
       "      <td>4.550000</td>\n",
       "    </tr>\n",
       "    <tr>\n",
       "      <th>218.0</th>\n",
       "      <th>134.0</th>\n",
       "      <th>0727</th>\n",
       "      <th>07</th>\n",
       "      <td>2010-01-01 00:04:24</td>\n",
       "      <td>2010-01-01 00:07:14</td>\n",
       "      <td>00:02:50</td>\n",
       "      <td>2.833333</td>\n",
       "    </tr>\n",
       "    <tr>\n",
       "      <th rowspan=\"2\" valign=\"top\">754224</th>\n",
       "      <th>232.0</th>\n",
       "      <th>21.0</th>\n",
       "      <th>1109</th>\n",
       "      <th>11</th>\n",
       "      <td>2010-01-01 00:14:15</td>\n",
       "      <td>2010-01-01 00:17:01</td>\n",
       "      <td>00:02:46</td>\n",
       "      <td>2.766667</td>\n",
       "    </tr>\n",
       "    <tr>\n",
       "      <th>415.0</th>\n",
       "      <th>21.0</th>\n",
       "      <th>1109</th>\n",
       "      <th>11</th>\n",
       "      <td>2010-01-01 00:14:15</td>\n",
       "      <td>2010-01-01 00:17:36</td>\n",
       "      <td>00:03:21</td>\n",
       "      <td>3.350000</td>\n",
       "    </tr>\n",
       "    <tr>\n",
       "      <th rowspan=\"2\" valign=\"top\">754225</th>\n",
       "      <th>120.0</th>\n",
       "      <th>125.0</th>\n",
       "      <th>2530</th>\n",
       "      <th>25</th>\n",
       "      <td>2010-01-01 00:16:21</td>\n",
       "      <td>NaT</td>\n",
       "      <td>NaT</td>\n",
       "      <td>NaN</td>\n",
       "    </tr>\n",
       "    <tr>\n",
       "      <th>229.0</th>\n",
       "      <th>125.0</th>\n",
       "      <th>2530</th>\n",
       "      <th>25</th>\n",
       "      <td>2010-01-01 00:16:21</td>\n",
       "      <td>2010-01-01 00:26:53</td>\n",
       "      <td>00:10:32</td>\n",
       "      <td>10.533333</td>\n",
       "    </tr>\n",
       "    <tr>\n",
       "      <th rowspan=\"2\" valign=\"top\">754226</th>\n",
       "      <th>56.0</th>\n",
       "      <th>141.0</th>\n",
       "      <th>0133</th>\n",
       "      <th>01</th>\n",
       "      <td>2010-01-01 00:21:17</td>\n",
       "      <td>2010-01-01 00:27:50</td>\n",
       "      <td>00:06:33</td>\n",
       "      <td>6.550000</td>\n",
       "    </tr>\n",
       "    <tr>\n",
       "      <th>123.0</th>\n",
       "      <th>141.0</th>\n",
       "      <th>0133</th>\n",
       "      <th>01</th>\n",
       "      <td>2010-01-01 00:22:11</td>\n",
       "      <td>2010-01-01 00:22:56</td>\n",
       "      <td>00:00:45</td>\n",
       "      <td>0.750000</td>\n",
       "    </tr>\n",
       "  </tbody>\n",
       "</table>\n",
       "</div>"
      ],
      "text/plain": [
       "timedesc_id                                                                   Dispatched  \\\n",
       "incident_id responderunit_id typenaturecode_id fireblock fmarespcomp                       \n",
       "754221      52.0             147.0             0375      03          2010-01-01 00:07:32   \n",
       "            221.0            147.0             0375      03          2010-01-01 00:07:32   \n",
       "754222      58.0             134.0             0727      07          2010-01-01 00:04:24   \n",
       "            218.0            134.0             0727      07          2010-01-01 00:04:24   \n",
       "754224      232.0            21.0              1109      11          2010-01-01 00:14:15   \n",
       "            415.0            21.0              1109      11          2010-01-01 00:14:15   \n",
       "754225      120.0            125.0             2530      25          2010-01-01 00:16:21   \n",
       "            229.0            125.0             2530      25          2010-01-01 00:16:21   \n",
       "754226      56.0             141.0             0133      01          2010-01-01 00:21:17   \n",
       "            123.0            141.0             0133      01          2010-01-01 00:22:11   \n",
       "\n",
       "timedesc_id                                                                     On Scene  \\\n",
       "incident_id responderunit_id typenaturecode_id fireblock fmarespcomp                       \n",
       "754221      52.0             147.0             0375      03                          NaT   \n",
       "            221.0            147.0             0375      03          2010-01-01 00:09:53   \n",
       "754222      58.0             134.0             0727      07          2010-01-01 00:08:57   \n",
       "            218.0            134.0             0727      07          2010-01-01 00:07:14   \n",
       "754224      232.0            21.0              1109      11          2010-01-01 00:17:01   \n",
       "            415.0            21.0              1109      11          2010-01-01 00:17:36   \n",
       "754225      120.0            125.0             2530      25                          NaT   \n",
       "            229.0            125.0             2530      25          2010-01-01 00:26:53   \n",
       "754226      56.0             141.0             0133      01          2010-01-01 00:27:50   \n",
       "            123.0            141.0             0133      01          2010-01-01 00:22:56   \n",
       "\n",
       "timedesc_id                                                           difference  \\\n",
       "incident_id responderunit_id typenaturecode_id fireblock fmarespcomp               \n",
       "754221      52.0             147.0             0375      03                  NaT   \n",
       "            221.0            147.0             0375      03             00:02:21   \n",
       "754222      58.0             134.0             0727      07             00:04:33   \n",
       "            218.0            134.0             0727      07             00:02:50   \n",
       "754224      232.0            21.0              1109      11             00:02:46   \n",
       "            415.0            21.0              1109      11             00:03:21   \n",
       "754225      120.0            125.0             2530      25                  NaT   \n",
       "            229.0            125.0             2530      25             00:10:32   \n",
       "754226      56.0             141.0             0133      01             00:06:33   \n",
       "            123.0            141.0             0133      01             00:00:45   \n",
       "\n",
       "timedesc_id                                                            diff_min  \n",
       "incident_id responderunit_id typenaturecode_id fireblock fmarespcomp             \n",
       "754221      52.0             147.0             0375      03                 NaN  \n",
       "            221.0            147.0             0375      03            2.350000  \n",
       "754222      58.0             134.0             0727      07            4.550000  \n",
       "            218.0            134.0             0727      07            2.833333  \n",
       "754224      232.0            21.0              1109      11            2.766667  \n",
       "            415.0            21.0              1109      11            3.350000  \n",
       "754225      120.0            125.0             2530      25                 NaN  \n",
       "            229.0            125.0             2530      25           10.533333  \n",
       "754226      56.0             141.0             0133      01            6.550000  \n",
       "            123.0            141.0             0133      01            0.750000  "
      ]
     },
     "execution_count": 9,
     "metadata": {},
     "output_type": "execute_result"
    }
   ],
   "source": [
    "table[\"diff_min\"] = (table[\"difference\"] / pd.Timedelta(minutes=1, seconds=0))\n",
    "table.head(10)"
   ]
  },
  {
   "cell_type": "code",
   "execution_count": 10,
   "metadata": {
    "collapsed": false
   },
   "outputs": [
    {
     "data": {
      "text/html": [
       "<div>\n",
       "<table border=\"1\" class=\"dataframe\">\n",
       "  <thead>\n",
       "    <tr style=\"text-align: right;\">\n",
       "      <th>timedesc_id</th>\n",
       "      <th>difference</th>\n",
       "      <th>diff_min</th>\n",
       "    </tr>\n",
       "  </thead>\n",
       "  <tbody>\n",
       "    <tr>\n",
       "      <th>count</th>\n",
       "      <td>889921</td>\n",
       "      <td>8.899210e+05</td>\n",
       "    </tr>\n",
       "    <tr>\n",
       "      <th>mean</th>\n",
       "      <td>-1 days +23:38:10.949737</td>\n",
       "      <td>-2.181750e+01</td>\n",
       "    </tr>\n",
       "    <tr>\n",
       "      <th>std</th>\n",
       "      <td>17 days 01:23:53.266197</td>\n",
       "      <td>2.456389e+04</td>\n",
       "    </tr>\n",
       "    <tr>\n",
       "      <th>min</th>\n",
       "      <td>-16071 days +00:03:54</td>\n",
       "      <td>-2.314224e+07</td>\n",
       "    </tr>\n",
       "    <tr>\n",
       "      <th>25%</th>\n",
       "      <td>0 days 00:03:58</td>\n",
       "      <td>3.966667e+00</td>\n",
       "    </tr>\n",
       "    <tr>\n",
       "      <th>50%</th>\n",
       "      <td>0 days 00:05:10</td>\n",
       "      <td>5.166667e+00</td>\n",
       "    </tr>\n",
       "    <tr>\n",
       "      <th>75%</th>\n",
       "      <td>0 days 00:06:38</td>\n",
       "      <td>6.633333e+00</td>\n",
       "    </tr>\n",
       "    <tr>\n",
       "      <th>max</th>\n",
       "      <td>70 days 06:14:30</td>\n",
       "      <td>1.011745e+05</td>\n",
       "    </tr>\n",
       "  </tbody>\n",
       "</table>\n",
       "</div>"
      ],
      "text/plain": [
       "timedesc_id                difference      diff_min\n",
       "count                          889921  8.899210e+05\n",
       "mean         -1 days +23:38:10.949737 -2.181750e+01\n",
       "std           17 days 01:23:53.266197  2.456389e+04\n",
       "min             -16071 days +00:03:54 -2.314224e+07\n",
       "25%                   0 days 00:03:58  3.966667e+00\n",
       "50%                   0 days 00:05:10  5.166667e+00\n",
       "75%                   0 days 00:06:38  6.633333e+00\n",
       "max                  70 days 06:14:30  1.011745e+05"
      ]
     },
     "execution_count": 10,
     "metadata": {},
     "output_type": "execute_result"
    }
   ],
   "source": [
    "table.describe()"
   ]
  },
  {
   "cell_type": "markdown",
   "metadata": {},
   "source": [
    "#### Hmm.. It is interesting that we have negative time differences.. let's investigate those."
   ]
  },
  {
   "cell_type": "code",
   "execution_count": 11,
   "metadata": {
    "collapsed": false
   },
   "outputs": [
    {
     "data": {
      "text/plain": [
       "(196, 4)"
      ]
     },
     "execution_count": 11,
     "metadata": {},
     "output_type": "execute_result"
    }
   ],
   "source": [
    "neg = table.loc[table['diff_min'] < 0.0]\n",
    "neg.shape"
   ]
  },
  {
   "cell_type": "markdown",
   "metadata": {},
   "source": [
    "### Ok, so there are only a few rows with negative values (a couple hundred out of about a million rows). Let's just ignore those for now, and possibly look into them later.\n",
    "\n",
    "### We also happen to have really, really large response time values (up to 70 days and 6 hours). These seem really odd, and we will also ignore those for now."
   ]
  },
  {
   "cell_type": "code",
   "execution_count": 12,
   "metadata": {
    "collapsed": false
   },
   "outputs": [],
   "source": [
    "# keep only the response times from 0 minutes to a day\n",
    "table = table.loc[table['diff_min'] >= 0.0].loc[table['diff_min'] <= 1440] # less than a day"
   ]
  },
  {
   "cell_type": "code",
   "execution_count": 13,
   "metadata": {
    "collapsed": false
   },
   "outputs": [
    {
     "name": "stderr",
     "output_type": "stream",
     "text": [
      "/home/vagrant/miniconda3/envs/data-science/lib/python3.5/site-packages/statsmodels/nonparametric/kdetools.py:20: VisibleDeprecationWarning: using a non-integer number instead of an integer will result in an error in the future\n",
      "  y = X[:m/2+1] + np.r_[0,X[m/2+1:],0]*1j\n"
     ]
    },
    {
     "data": {
      "text/plain": [
       "<matplotlib.axes._subplots.AxesSubplot at 0x7f33f62092b0>"
      ]
     },
     "execution_count": 13,
     "metadata": {},
     "output_type": "execute_result"
    },
    {
     "data": {
      "image/png": "[encoded data removed]",
      "text/plain": [
       "<matplotlib.figure.Figure at 0x7f33f6209438>"
      ]
     },
     "metadata": {},
     "output_type": "display_data"
    }
   ],
   "source": [
    "sns.distplot(table['diff_min'])"
   ]
  },
  {
   "cell_type": "code",
   "execution_count": 14,
   "metadata": {
    "collapsed": false,
    "scrolled": false
   },
   "outputs": [
    {
     "name": "stderr",
     "output_type": "stream",
     "text": [
      "/home/vagrant/miniconda3/envs/data-science/lib/python3.5/site-packages/statsmodels/nonparametric/kdetools.py:20: VisibleDeprecationWarning: using a non-integer number instead of an integer will result in an error in the future\n",
      "  y = X[:m/2+1] + np.r_[0,X[m/2+1:],0]*1j\n"
     ]
    },
    {
     "data": {
      "text/plain": [
       "<matplotlib.text.Text at 0x7f3412b12240>"
      ]
     },
     "execution_count": 14,
     "metadata": {},
     "output_type": "execute_result"
    },
    {
     "data": {
      "image/png": "[encoded data removed]",
      "text/plain": [
       "<matplotlib.figure.Figure at 0x7f340ffc37f0>"
      ]
     },
     "metadata": {},
     "output_type": "display_data"
    }
   ],
   "source": [
    "# zoom in on thirty minutes\n",
    "plt.rcParams['figure.figsize']=(10,10)\n",
    "sns.distplot(table.loc[table['diff_min'] <= 30]['diff_min']) \n",
    "plt.title('Distribution of Response Times for Incidents (limited to response times under 30 minutes)')"
   ]
  },
  {
   "cell_type": "code",
   "execution_count": 15,
   "metadata": {
    "collapsed": false
   },
   "outputs": [
    {
     "name": "stderr",
     "output_type": "stream",
     "text": [
      "/home/vagrant/miniconda3/envs/data-science/lib/python3.5/site-packages/statsmodels/nonparametric/kdetools.py:20: VisibleDeprecationWarning: using a non-integer number instead of an integer will result in an error in the future\n",
      "  y = X[:m/2+1] + np.r_[0,X[m/2+1:],0]*1j\n"
     ]
    },
    {
     "data": {
      "text/plain": [
       "<matplotlib.text.Text at 0x7f34162c7ac8>"
      ]
     },
     "execution_count": 15,
     "metadata": {},
     "output_type": "execute_result"
    },
    {
     "data": {
      "image/png": "[encoded data removed]",
      "text/plain": [
       "<matplotlib.figure.Figure at 0x7f340fca7208>"
      ]
     },
     "metadata": {},
     "output_type": "display_data"
    }
   ],
   "source": [
    "plt.rcParams['figure.figsize']=(5,5)\n",
    "sns.distplot(table.loc[table['diff_min'] > 0.0].loc[table['diff_min'] <= 1]['diff_min'])\n",
    "plt.title('Distribution of Response Times that are Under a Minute')"
   ]
  },
  {
   "cell_type": "markdown",
   "metadata": {},
   "source": [
    "# Below, we take a look at median response times by FMA, Responder ID and Fireblock.\n",
    "\n",
    "# 1. FMA"
   ]
  },
  {
   "cell_type": "code",
   "execution_count": 16,
   "metadata": {
    "collapsed": false
   },
   "outputs": [
    {
     "data": {
      "text/plain": [
       "fmarespcomp\n",
       "01         73696\n",
       "02         22139\n",
       "03         50950\n",
       "04         48808\n",
       "05         13164\n",
       "06          3909\n",
       "07         74860\n",
       "08         22134\n",
       "09         28078\n",
       "1              1\n",
       "10          5972\n",
       "11         51763\n",
       "12         27682\n",
       "13         50038\n",
       "14         32124\n",
       "15          3874\n",
       "16          7782\n",
       "17         13447\n",
       "18         20897\n",
       "19         37248\n",
       "20         17025\n",
       "21         21229\n",
       "210          234\n",
       "22         23927\n",
       "23         11875\n",
       "24         25018\n",
       "25         38828\n",
       "26         20125\n",
       "27          2370\n",
       "28         26073\n",
       "29         25156\n",
       "30         36936\n",
       "31         42734\n",
       "32            83\n",
       "61            31\n",
       "62             4\n",
       "62551          1\n",
       "71          1012\n",
       "72           424\n",
       "73          1175\n",
       "74          4077\n",
       "75           332\n",
       "76            64\n",
       "89          1297\n",
       "?              2\n",
       "E64            2\n",
       "GRESHAM        7\n",
       "N/A            6\n",
       "NA            12\n",
       "NONE           1\n",
       "OF           884\n",
       "T53          135\n",
       "T60           36\n",
       "UK             6\n",
       "UNK           10\n",
       "UNKNOWN        3\n",
       "Name: diff_min, dtype: int64"
      ]
     },
     "execution_count": 16,
     "metadata": {},
     "output_type": "execute_result"
    }
   ],
   "source": [
    "# take a look at the values for the FMAs in the incident table.\n",
    "# notice that there are some values that do not correspond to the FMAs.\n",
    "# we belive that some are typos and others might be actual FMAs, but\n",
    "# not ones that PF&R regularly serves\n",
    "table['fmarespcomp'] = table.index.get_level_values('fmarespcomp') \n",
    "fmaCounts = table.groupby(['fmarespcomp'])['diff_min'].count()\n",
    "fmaCounts.head(100)"
   ]
  },
  {
   "cell_type": "code",
   "execution_count": 17,
   "metadata": {
    "collapsed": true
   },
   "outputs": [],
   "source": [
    "validFMAs = [\"01\", \"02\", \"03\", \"04\", \"05\", \"06\", \"07\", \"08\", \"09\", \"10\",\n",
    "             \"11\", \"12\", \"13\", \"14\", \"15\", \"16\", \"17\", \"18\", \"19\", \"20\",\n",
    "             \"21\", \"22\", \"23\", \"24\", \"25\", \"26\", \"27\", \"28\", \"29\", \"30\", \"31\"]"
   ]
  },
  {
   "cell_type": "code",
   "execution_count": 18,
   "metadata": {
    "collapsed": true
   },
   "outputs": [],
   "source": [
    "# get rid of rows that do not have valid FMA values.\n",
    "table = table[table['fmarespcomp'].isin(validFMAs)]"
   ]
  },
  {
   "cell_type": "code",
   "execution_count": 19,
   "metadata": {
    "collapsed": false
   },
   "outputs": [
    {
     "name": "stdout",
     "output_type": "stream",
     "text": [
      "<class 'pandas.core.frame.DataFrame'>\n",
      "MultiIndex: 879861 entries, (754221, 221.0, 147.0, 0375, 03) to (1299912, 234.0, 146.0, 0363, 03)\n",
      "Data columns (total 5 columns):\n",
      "Dispatched     879861 non-null datetime64[ns]\n",
      "On Scene       879861 non-null datetime64[ns]\n",
      "difference     879861 non-null timedelta64[ns]\n",
      "diff_min       879861 non-null float64\n",
      "fmarespcomp    879861 non-null object\n",
      "dtypes: datetime64[ns](2), float64(1), object(1), timedelta64[ns](1)\n",
      "memory usage: 47.0+ MB\n"
     ]
    }
   ],
   "source": [
    "table.info()"
   ]
  },
  {
   "cell_type": "code",
   "execution_count": 20,
   "metadata": {
    "collapsed": false
   },
   "outputs": [
    {
     "data": {
      "text/plain": [
       "fmarespcomp\n",
       "01    4.616667\n",
       "02    5.766667\n",
       "03    4.866667\n",
       "04    4.633333\n",
       "05    6.133333\n",
       "06    5.816667\n",
       "07    5.066667\n",
       "08    4.533333\n",
       "09    5.100000\n",
       "10    6.433333\n",
       "11    4.883333\n",
       "12    4.916667\n",
       "13    4.916667\n",
       "14    5.566667\n",
       "15    6.408333\n",
       "16    6.916667\n",
       "17    6.916667\n",
       "18    6.350000\n",
       "19    4.950000\n",
       "20    6.383333\n",
       "21    4.833333\n",
       "22    5.566667\n",
       "23    5.966667\n",
       "24    4.933333\n",
       "25    5.333333\n",
       "26    5.066667\n",
       "27    9.016667\n",
       "28    5.116667\n",
       "29    5.933333\n",
       "30    5.300000\n",
       "31    5.233333\n",
       "Name: diff_min, dtype: float64"
      ]
     },
     "execution_count": 20,
     "metadata": {},
     "output_type": "execute_result"
    }
   ],
   "source": [
    "# get the Median response times for the Valid FMA's.\n",
    "fmaResponseTimes = table.groupby(['fmarespcomp'])['diff_min'].median()\n",
    "fmaResponseTimes.head(31)"
   ]
  },
  {
   "cell_type": "code",
   "execution_count": 30,
   "metadata": {
    "collapsed": true
   },
   "outputs": [],
   "source": [
    "# save to a csv\n",
    "fmaResponseTimes.to_csv(\"responseTimeMetricsData/fmaResponseTimes.csv\")"
   ]
  },
  {
   "cell_type": "code",
   "execution_count": 21,
   "metadata": {
    "collapsed": false
   },
   "outputs": [
    {
     "name": "stderr",
     "output_type": "stream",
     "text": [
      "/home/vagrant/miniconda3/envs/data-science/lib/python3.5/site-packages/seaborn/categorical.py:2171: UserWarning: The boxplot API has been changed. Attempting to adjust your arguments for the new API (which might not work). Please update your code. See the version 0.6 release notes for more info.\n",
      "  warnings.warn(msg, UserWarning)\n"
     ]
    },
    {
     "data": {
      "image/png": "[encoded data removed]",
      "text/plain": [
       "<matplotlib.figure.Figure at 0x7f34482f13c8>"
      ]
     },
     "metadata": {},
     "output_type": "display_data"
    }
   ],
   "source": [
    "# ok, let's try and plot the response times by FMA\n",
    "plt.rcParams['figure.figsize']=(20,40)\n",
    "# draw boxplots, don't show outliers\n",
    "ax1 = sns.boxplot(y=\"diff_min\", x=\"fmarespcomp\", data=table, showfliers=False, vert=False) "
   ]
  },
  {
   "cell_type": "markdown",
   "metadata": {},
   "source": [
    "# 2. Responder Id"
   ]
  },
  {
   "cell_type": "code",
   "execution_count": 22,
   "metadata": {
    "collapsed": false
   },
   "outputs": [
    {
     "data": {
      "text/plain": [
       "responderunit_id\n",
       "4.0       101\n",
       "7.0      1693\n",
       "8.0        97\n",
       "9.0      1123\n",
       "10.0        8\n",
       "12.0     2928\n",
       "13.0     2623\n",
       "14.0        1\n",
       "15.0     2851\n",
       "19.0        1\n",
       "21.0        9\n",
       "22.0        3\n",
       "27.0        1\n",
       "29.0       12\n",
       "30.0    16967\n",
       "31.0     3021\n",
       "32.0    17970\n",
       "33.0    17252\n",
       "34.0    16197\n",
       "35.0     3156\n",
       "36.0     6590\n",
       "37.0    10616\n",
       "38.0    15680\n",
       "39.0     6889\n",
       "40.0     9453\n",
       "42.0     7713\n",
       "44.0      978\n",
       "45.0    12537\n",
       "46.0    13594\n",
       "51.0    10431\n",
       "Name: diff_min, dtype: int64"
      ]
     },
     "execution_count": 22,
     "metadata": {},
     "output_type": "execute_result"
    }
   ],
   "source": [
    "# take a look at the values for the responderunit_ids in the incident table.\n",
    "table['responderunit_id'] = table.index.get_level_values('responderunit_id')\n",
    "responderUnitCounts = table.groupby(['responderunit_id'])['diff_min'].count()\n",
    "responderUnitCounts.head(30)"
   ]
  },
  {
   "cell_type": "code",
   "execution_count": 23,
   "metadata": {
    "collapsed": false
   },
   "outputs": [
    {
     "data": {
      "text/plain": [
       "responderunit_id\n",
       "4.0     8.716667\n",
       "7.0     6.983333\n",
       "8.0     0.300000\n",
       "9.0     4.366667\n",
       "10.0    3.316667\n",
       "12.0    6.358333\n",
       "13.0    5.433333\n",
       "14.0    0.000000\n",
       "15.0    7.483333\n",
       "19.0    0.000000\n",
       "21.0    6.600000\n",
       "22.0    2.450000\n",
       "27.0    2.283333\n",
       "29.0    8.808333\n",
       "30.0    4.166667\n",
       "31.0    6.283333\n",
       "32.0    5.000000\n",
       "33.0    4.416667\n",
       "34.0    5.016667\n",
       "35.0    5.850000\n",
       "36.0    6.150000\n",
       "37.0    5.750000\n",
       "38.0    4.983333\n",
       "39.0    5.516667\n",
       "40.0    5.166667\n",
       "42.0    5.016667\n",
       "44.0    5.141667\n",
       "45.0    4.666667\n",
       "46.0    5.133333\n",
       "51.0    4.716667\n",
       "52.0    4.466667\n",
       "Name: diff_min, dtype: float64"
      ]
     },
     "execution_count": 23,
     "metadata": {},
     "output_type": "execute_result"
    }
   ],
   "source": [
    "responderResponseTimes = table.groupby(['responderunit_id'])['diff_min'].median()\n",
    "responderResponseTimes.head(31)"
   ]
  },
  {
   "cell_type": "code",
   "execution_count": 29,
   "metadata": {
    "collapsed": true
   },
   "outputs": [],
   "source": [
    "# save to a csv\n",
    "responderResponseTimes.to_csv(\"responseTimeMetricsData/responderResponseTimes.csv\")"
   ]
  },
  {
   "cell_type": "markdown",
   "metadata": {
    "collapsed": true
   },
   "source": [
    "# 3. Fire block"
   ]
  },
  {
   "cell_type": "code",
   "execution_count": 24,
   "metadata": {
    "collapsed": false
   },
   "outputs": [
    {
     "data": {
      "text/plain": [
       "fireblock\n",
       "01          1\n",
       "0103    10348\n",
       "0106     1244\n",
       "0109    14736\n",
       "0112     1680\n",
       "Name: diff_min, dtype: int64"
      ]
     },
     "execution_count": 24,
     "metadata": {},
     "output_type": "execute_result"
    }
   ],
   "source": [
    "table['fireblock'] = table.index.get_level_values('fireblock')\n",
    "fireblockCounts = table.groupby(['fireblock'])['diff_min'].count()\n",
    "fireblockCounts.head()"
   ]
  },
  {
   "cell_type": "code",
   "execution_count": 25,
   "metadata": {
    "collapsed": false
   },
   "outputs": [
    {
     "data": {
      "text/plain": [
       "fireblock\n",
       "01      0.000000\n",
       "0103    5.183333\n",
       "0106    4.733333\n",
       "0109    4.550000\n",
       "0112    4.866667\n",
       "Name: diff_min, dtype: float64"
      ]
     },
     "execution_count": 25,
     "metadata": {},
     "output_type": "execute_result"
    }
   ],
   "source": [
    "## **if there is a way to filter valid fireblocks, that would be good.**\n",
    "fireblockResponseTimes = table.groupby(['fireblock'])['diff_min'].median()\n",
    "fireblockResponseTimes.head()"
   ]
  },
  {
   "cell_type": "code",
   "execution_count": 28,
   "metadata": {
    "collapsed": false
   },
   "outputs": [],
   "source": [
    "fireblockResponseTimes.to_csv(\"responseTimeMetricsData/fireblockResponseTimes.csv\")"
   ]
  },
  {
   "cell_type": "code",
   "execution_count": null,
   "metadata": {
    "collapsed": true
   },
   "outputs": [],
   "source": []
  }
 ],
 "metadata": {
  "anaconda-cloud": {},
  "kernelspec": {
   "display_name": "Python [conda env:data-science]",
   "language": "python",
   "name": "conda-env-data-science-py"
  },
  "language_info": {
   "codemirror_mode": {
    "name": "ipython",
    "version": 3
   },
   "file_extension": ".py",
   "mimetype": "text/x-python",
   "name": "python",
   "nbconvert_exporter": "python",
   "pygments_lexer": "ipython3",
   "version": "3.5.2"
  }
 },
 "nbformat": 4,
 "nbformat_minor": 1
}

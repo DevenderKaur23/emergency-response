{
 "cells": [
  {
   "cell_type": "code",
   "execution_count": 1,
   "metadata": {
    "collapsed": false,
    "deletable": true,
    "editable": true
   },
   "outputs": [],
   "source": [
    "import os \n",
    "from dotenv import load_dotenv, find_dotenv\n",
    "import psycopg2\n",
    "import matplotlib.pyplot as plt\n",
    "import numpy as np\n",
    "import pandas as pd\n",
    "import seaborn as sns\n",
    "%matplotlib inline"
   ]
  },
  {
   "cell_type": "markdown",
   "metadata": {
    "deletable": true,
    "editable": true
   },
   "source": [
    "In this notebook, I explore the sample fire dispatch data provided to HACK OR Emergency Response Project Team. In particular, we're after the proportion of calls that are of high or low priority, both city wide and by Fire Management Area (FMA)."
   ]
  },
  {
   "cell_type": "code",
   "execution_count": 2,
   "metadata": {
    "collapsed": false,
    "deletable": true,
    "editable": true
   },
   "outputs": [
    {
     "data": {
      "text/plain": [
       "True"
      ]
     },
     "execution_count": 2,
     "metadata": {},
     "output_type": "execute_result"
    }
   ],
   "source": [
    "# walk root diretory to find and load .env file w/ AWS host, username and password\n",
    "load_dotenv(find_dotenv())"
   ]
  },
  {
   "cell_type": "code",
   "execution_count": 3,
   "metadata": {
    "collapsed": false,
    "deletable": true,
    "editable": true
   },
   "outputs": [],
   "source": [
    "# connect to postgres\n",
    "def pgconnect():\n",
    "    try:\n",
    "        conn = psycopg2.connect(database=os.environ.get(\"erdatabase\"), user=os.environ.get(\"eruser\"), \n",
    "                            password = os.environ.get(\"erpassword\"), \n",
    "                            host=os.environ.get(\"erhost\"), port=os.environ.get(\"erport\"))\n",
    "        print(\"Opened database successfully\")\n",
    "        return conn\n",
    "    \n",
    "    except psycopg2.Error as e:\n",
    "        print(\"I am unable to connect to the database\")\n",
    "        print(e)\n",
    "        print(e.pgcode)\n",
    "        print(e.pgerror)\n",
    "        print(traceback.format_exc())\n",
    "        return None"
   ]
  },
  {
   "cell_type": "code",
   "execution_count": 4,
   "metadata": {
    "collapsed": false,
    "deletable": true,
    "editable": true
   },
   "outputs": [],
   "source": [
    "def pquery(QUERY):\n",
    "    '''\n",
    "    takes SQL query string, opens a cursor, and executes query in psql\n",
    "    '''\n",
    "    conn = pgconnect()\n",
    "    \n",
    "    if conn is None:\n",
    "        return None\n",
    "    \n",
    "    cur = conn.cursor()\n",
    "    \n",
    "    try:\n",
    "        print(\"SQL QUERY = \"+QUERY)\n",
    "        cur.execute(\"SET statement_timeout = 0\")\n",
    "        cur.execute(QUERY)\n",
    "        # Extract the column names and insert them in header\n",
    "        col_names = []\n",
    "        for elt in cur.description:\n",
    "            col_names.append(elt[0])    \n",
    "    \n",
    "        D = cur.fetchall() #convert query result to list\n",
    "        # Create the dataframe, passing in the list of col_names extracted from the description\n",
    "        return pd.DataFrame(D, columns=col_names)\n",
    "\n",
    "    except Exception as e:\n",
    "        print(e.pgerror)\n",
    "        \n",
    "    finally:\n",
    "        conn.close()\n"
   ]
  },
  {
   "cell_type": "code",
   "execution_count": 5,
   "metadata": {
    "collapsed": true,
    "deletable": true,
    "editable": true
   },
   "outputs": [],
   "source": [
    "# we first get the relevant columns from the incident table.\n",
    "QUERY1='''\n",
    "SELECT fmarespcomp fma\n",
    "    ,alarmlevel_id - 1 alarmlevel\n",
    "    ,incident_id\n",
    "    ,incsitfoundprm_id incsitfound_id\n",
    "FROM incident;\n",
    "'''"
   ]
  },
  {
   "cell_type": "code",
   "execution_count": 6,
   "metadata": {
    "collapsed": false,
    "deletable": true,
    "editable": true
   },
   "outputs": [
    {
     "name": "stdout",
     "output_type": "stream",
     "text": [
      "Opened database successfully\n",
      "SQL QUERY = \n",
      "SELECT fmarespcomp fma\n",
      "    ,alarmlevel_id - 1 alarmlevel\n",
      "    ,incident_id\n",
      "    ,incsitfoundprm_id incsitfound_id\n",
      "FROM incident;\n",
      "\n"
     ]
    }
   ],
   "source": [
    "df1 = pquery(QUERY1)"
   ]
  },
  {
   "cell_type": "code",
   "execution_count": 7,
   "metadata": {
    "collapsed": false,
    "deletable": true,
    "editable": true
   },
   "outputs": [
    {
     "name": "stdout",
     "output_type": "stream",
     "text": [
      "<class 'pandas.core.frame.DataFrame'>\n",
      "RangeIndex: 545059 entries, 0 to 545058\n",
      "Data columns (total 4 columns):\n",
      "fma               521789 non-null object\n",
      "alarmlevel        545057 non-null float64\n",
      "incident_id       545059 non-null int64\n",
      "incsitfound_id    512281 non-null float64\n",
      "dtypes: float64(2), int64(1), object(1)\n",
      "memory usage: 16.6+ MB\n"
     ]
    }
   ],
   "source": [
    "df1.info()"
   ]
  },
  {
   "cell_type": "code",
   "execution_count": 8,
   "metadata": {
    "collapsed": false,
    "deletable": true,
    "editable": true
   },
   "outputs": [
    {
     "data": {
      "text/html": [
       "<div>\n",
       "<table border=\"1\" class=\"dataframe\">\n",
       "  <thead>\n",
       "    <tr style=\"text-align: right;\">\n",
       "      <th></th>\n",
       "      <th>fma</th>\n",
       "      <th>alarmlevel</th>\n",
       "      <th>incident_id</th>\n",
       "      <th>incsitfound_id</th>\n",
       "    </tr>\n",
       "  </thead>\n",
       "  <tbody>\n",
       "    <tr>\n",
       "      <th>0</th>\n",
       "      <td>30</td>\n",
       "      <td>1.0</td>\n",
       "      <td>1089329</td>\n",
       "      <td>542.0</td>\n",
       "    </tr>\n",
       "    <tr>\n",
       "      <th>1</th>\n",
       "      <td>26</td>\n",
       "      <td>1.0</td>\n",
       "      <td>1089330</td>\n",
       "      <td>326.0</td>\n",
       "    </tr>\n",
       "    <tr>\n",
       "      <th>2</th>\n",
       "      <td>08</td>\n",
       "      <td>1.0</td>\n",
       "      <td>1089331</td>\n",
       "      <td>481.0</td>\n",
       "    </tr>\n",
       "    <tr>\n",
       "      <th>3</th>\n",
       "      <td>13</td>\n",
       "      <td>1.0</td>\n",
       "      <td>1089332</td>\n",
       "      <td>111.0</td>\n",
       "    </tr>\n",
       "    <tr>\n",
       "      <th>4</th>\n",
       "      <td>01</td>\n",
       "      <td>1.0</td>\n",
       "      <td>1089333</td>\n",
       "      <td>326.0</td>\n",
       "    </tr>\n",
       "  </tbody>\n",
       "</table>\n",
       "</div>"
      ],
      "text/plain": [
       "  fma  alarmlevel  incident_id  incsitfound_id\n",
       "0  30         1.0      1089329           542.0\n",
       "1  26         1.0      1089330           326.0\n",
       "2  08         1.0      1089331           481.0\n",
       "3  13         1.0      1089332           111.0\n",
       "4  01         1.0      1089333           326.0"
      ]
     },
     "execution_count": 8,
     "metadata": {},
     "output_type": "execute_result"
    }
   ],
   "source": [
    "df1.head(5)"
   ]
  },
  {
   "cell_type": "code",
   "execution_count": 9,
   "metadata": {
    "collapsed": true,
    "deletable": true,
    "editable": true
   },
   "outputs": [],
   "source": [
    "# It would also be nice to get all the descriptions of the incidents found so that we can cut along those lines.\n",
    "QUERY2='''\n",
    "select a.incsitfound_id incsitfound_id\n",
    "    ,a.description incsitfound_desc\n",
    "    ,b.description incsitfoundsub_desc\n",
    "    ,c.description incsitfoundclass_desc\n",
    "from incsitfound as a\n",
    "left join incsitfoundsub as b\n",
    "    on a.incsitfoundsub_id = b.incsitfoundsub_id\n",
    "left join incsitfoundclass as c\n",
    "    on b.incsitfoundclass_id = c.incsitfoundclass_id\n",
    "'''"
   ]
  },
  {
   "cell_type": "code",
   "execution_count": 10,
   "metadata": {
    "collapsed": false,
    "deletable": true,
    "editable": true
   },
   "outputs": [
    {
     "name": "stdout",
     "output_type": "stream",
     "text": [
      "Opened database successfully\n",
      "SQL QUERY = \n",
      "select a.incsitfound_id incsitfound_id\n",
      "    ,a.description incsitfound_desc\n",
      "    ,b.description incsitfoundsub_desc\n",
      "    ,c.description incsitfoundclass_desc\n",
      "from incsitfound as a\n",
      "left join incsitfoundsub as b\n",
      "    on a.incsitfoundsub_id = b.incsitfoundsub_id\n",
      "left join incsitfoundclass as c\n",
      "    on b.incsitfoundclass_id = c.incsitfoundclass_id\n",
      "\n"
     ]
    }
   ],
   "source": [
    "df2 = pquery(QUERY2)"
   ]
  },
  {
   "cell_type": "code",
   "execution_count": 11,
   "metadata": {
    "collapsed": false,
    "deletable": true,
    "editable": true
   },
   "outputs": [
    {
     "name": "stdout",
     "output_type": "stream",
     "text": [
      "<class 'pandas.core.frame.DataFrame'>\n",
      "RangeIndex: 224 entries, 0 to 223\n",
      "Data columns (total 4 columns):\n",
      "incsitfound_id           224 non-null int64\n",
      "incsitfound_desc         224 non-null object\n",
      "incsitfoundsub_desc      224 non-null object\n",
      "incsitfoundclass_desc    224 non-null object\n",
      "dtypes: int64(1), object(3)\n",
      "memory usage: 7.1+ KB\n"
     ]
    }
   ],
   "source": [
    "df2.info()"
   ]
  },
  {
   "cell_type": "code",
   "execution_count": 12,
   "metadata": {
    "collapsed": false,
    "deletable": true,
    "editable": true
   },
   "outputs": [
    {
     "data": {
      "text/html": [
       "<div>\n",
       "<table border=\"1\" class=\"dataframe\">\n",
       "  <thead>\n",
       "    <tr style=\"text-align: right;\">\n",
       "      <th></th>\n",
       "      <th>incsitfound_id</th>\n",
       "      <th>incsitfound_desc</th>\n",
       "      <th>incsitfoundsub_desc</th>\n",
       "      <th>incsitfoundclass_desc</th>\n",
       "    </tr>\n",
       "  </thead>\n",
       "  <tbody>\n",
       "    <tr>\n",
       "      <th>0</th>\n",
       "      <td>100</td>\n",
       "      <td>FIRE/EXPLOSION, OTHER                         ...</td>\n",
       "      <td>FIRE/EXPLOSION, OTHER                         ...</td>\n",
       "      <td>FIRE/EXPLOSION</td>\n",
       "    </tr>\n",
       "    <tr>\n",
       "      <th>1</th>\n",
       "      <td>110</td>\n",
       "      <td>STRUCTURE FIRE, OTHER                         ...</td>\n",
       "      <td>STRUCTURE FIRE                                ...</td>\n",
       "      <td>FIRE/EXPLOSION</td>\n",
       "    </tr>\n",
       "    <tr>\n",
       "      <th>2</th>\n",
       "      <td>111</td>\n",
       "      <td>BUILDING FIRE                                 ...</td>\n",
       "      <td>STRUCTURE FIRE                                ...</td>\n",
       "      <td>FIRE/EXPLOSION</td>\n",
       "    </tr>\n",
       "    <tr>\n",
       "      <th>3</th>\n",
       "      <td>112</td>\n",
       "      <td>STRUCTURE FIRE OTHER THAN IN BUILDING (PIERS, ...</td>\n",
       "      <td>STRUCTURE FIRE                                ...</td>\n",
       "      <td>FIRE/EXPLOSION</td>\n",
       "    </tr>\n",
       "    <tr>\n",
       "      <th>4</th>\n",
       "      <td>113</td>\n",
       "      <td>COOKING FIRE, CONFINED TO CONTAINER           ...</td>\n",
       "      <td>STRUCTURE FIRE                                ...</td>\n",
       "      <td>FIRE/EXPLOSION</td>\n",
       "    </tr>\n",
       "  </tbody>\n",
       "</table>\n",
       "</div>"
      ],
      "text/plain": [
       "   incsitfound_id                                   incsitfound_desc  \\\n",
       "0             100  FIRE/EXPLOSION, OTHER                         ...   \n",
       "1             110  STRUCTURE FIRE, OTHER                         ...   \n",
       "2             111  BUILDING FIRE                                 ...   \n",
       "3             112  STRUCTURE FIRE OTHER THAN IN BUILDING (PIERS, ...   \n",
       "4             113  COOKING FIRE, CONFINED TO CONTAINER           ...   \n",
       "\n",
       "                                 incsitfoundsub_desc  \\\n",
       "0  FIRE/EXPLOSION, OTHER                         ...   \n",
       "1  STRUCTURE FIRE                                ...   \n",
       "2  STRUCTURE FIRE                                ...   \n",
       "3  STRUCTURE FIRE                                ...   \n",
       "4  STRUCTURE FIRE                                ...   \n",
       "\n",
       "                        incsitfoundclass_desc  \n",
       "0  FIRE/EXPLOSION                              \n",
       "1  FIRE/EXPLOSION                              \n",
       "2  FIRE/EXPLOSION                              \n",
       "3  FIRE/EXPLOSION                              \n",
       "4  FIRE/EXPLOSION                              "
      ]
     },
     "execution_count": 12,
     "metadata": {},
     "output_type": "execute_result"
    }
   ],
   "source": [
    "df2.head(5)"
   ]
  },
  {
   "cell_type": "code",
   "execution_count": 13,
   "metadata": {
    "collapsed": false,
    "deletable": true,
    "editable": true
   },
   "outputs": [],
   "source": [
    "# merge the situation descriptions into the incident df\n",
    "df = pd.merge(df1, df2, how='left')[['fma','alarmlevel','incsitfoundclass_desc','incident_id']]"
   ]
  },
  {
   "cell_type": "code",
   "execution_count": 14,
   "metadata": {
    "collapsed": false,
    "deletable": true,
    "editable": true
   },
   "outputs": [
    {
     "name": "stdout",
     "output_type": "stream",
     "text": [
      "<class 'pandas.core.frame.DataFrame'>\n",
      "Int64Index: 545059 entries, 0 to 545058\n",
      "Data columns (total 4 columns):\n",
      "fma                      521789 non-null object\n",
      "alarmlevel               545057 non-null float64\n",
      "incsitfoundclass_desc    512281 non-null object\n",
      "incident_id              545059 non-null int64\n",
      "dtypes: float64(1), int64(1), object(2)\n",
      "memory usage: 20.8+ MB\n"
     ]
    }
   ],
   "source": [
    "df.info()"
   ]
  },
  {
   "cell_type": "code",
   "execution_count": 15,
   "metadata": {
    "collapsed": false,
    "deletable": true,
    "editable": true
   },
   "outputs": [
    {
     "data": {
      "text/html": [
       "<div>\n",
       "<table border=\"1\" class=\"dataframe\">\n",
       "  <thead>\n",
       "    <tr style=\"text-align: right;\">\n",
       "      <th></th>\n",
       "      <th>fma</th>\n",
       "      <th>alarmlevel</th>\n",
       "      <th>incsitfoundclass_desc</th>\n",
       "      <th>incident_id</th>\n",
       "    </tr>\n",
       "  </thead>\n",
       "  <tbody>\n",
       "    <tr>\n",
       "      <th>0</th>\n",
       "      <td>30</td>\n",
       "      <td>1.0</td>\n",
       "      <td>SERVICE CALL</td>\n",
       "      <td>1089329</td>\n",
       "    </tr>\n",
       "    <tr>\n",
       "      <th>1</th>\n",
       "      <td>26</td>\n",
       "      <td>1.0</td>\n",
       "      <td>MEDICAL AID / RESCUE CALLS</td>\n",
       "      <td>1089330</td>\n",
       "    </tr>\n",
       "    <tr>\n",
       "      <th>2</th>\n",
       "      <td>08</td>\n",
       "      <td>1.0</td>\n",
       "      <td>HAZARDOUS CONDITIONS</td>\n",
       "      <td>1089331</td>\n",
       "    </tr>\n",
       "    <tr>\n",
       "      <th>3</th>\n",
       "      <td>13</td>\n",
       "      <td>1.0</td>\n",
       "      <td>FIRE/EXPLOSION</td>\n",
       "      <td>1089332</td>\n",
       "    </tr>\n",
       "    <tr>\n",
       "      <th>4</th>\n",
       "      <td>01</td>\n",
       "      <td>1.0</td>\n",
       "      <td>MEDICAL AID / RESCUE CALLS</td>\n",
       "      <td>1089333</td>\n",
       "    </tr>\n",
       "  </tbody>\n",
       "</table>\n",
       "</div>"
      ],
      "text/plain": [
       "  fma  alarmlevel                       incsitfoundclass_desc  incident_id\n",
       "0  30         1.0  SERVICE CALL                                    1089329\n",
       "1  26         1.0  MEDICAL AID / RESCUE CALLS                      1089330\n",
       "2  08         1.0  HAZARDOUS CONDITIONS                            1089331\n",
       "3  13         1.0  FIRE/EXPLOSION                                  1089332\n",
       "4  01         1.0  MEDICAL AID / RESCUE CALLS                      1089333"
      ]
     },
     "execution_count": 15,
     "metadata": {},
     "output_type": "execute_result"
    }
   ],
   "source": [
    "df.head(5)"
   ]
  },
  {
   "cell_type": "code",
   "execution_count": 16,
   "metadata": {
    "collapsed": false,
    "deletable": true,
    "editable": true
   },
   "outputs": [
    {
     "data": {
      "text/html": [
       "<div>\n",
       "<table border=\"1\" class=\"dataframe\">\n",
       "  <thead>\n",
       "    <tr style=\"text-align: right;\">\n",
       "      <th></th>\n",
       "      <th></th>\n",
       "      <th></th>\n",
       "      <th>incident_id</th>\n",
       "    </tr>\n",
       "    <tr>\n",
       "      <th>fma</th>\n",
       "      <th>incsitfoundclass_desc</th>\n",
       "      <th>alarmlevel</th>\n",
       "      <th></th>\n",
       "    </tr>\n",
       "  </thead>\n",
       "  <tbody>\n",
       "    <tr>\n",
       "      <th>30</th>\n",
       "      <th>SERVICE CALL</th>\n",
       "      <th>1.0</th>\n",
       "      <td>1089329</td>\n",
       "    </tr>\n",
       "    <tr>\n",
       "      <th>26</th>\n",
       "      <th>MEDICAL AID / RESCUE CALLS</th>\n",
       "      <th>1.0</th>\n",
       "      <td>1089330</td>\n",
       "    </tr>\n",
       "    <tr>\n",
       "      <th>08</th>\n",
       "      <th>HAZARDOUS CONDITIONS</th>\n",
       "      <th>1.0</th>\n",
       "      <td>1089331</td>\n",
       "    </tr>\n",
       "    <tr>\n",
       "      <th>13</th>\n",
       "      <th>FIRE/EXPLOSION</th>\n",
       "      <th>1.0</th>\n",
       "      <td>1089332</td>\n",
       "    </tr>\n",
       "    <tr>\n",
       "      <th>01</th>\n",
       "      <th>MEDICAL AID / RESCUE CALLS</th>\n",
       "      <th>1.0</th>\n",
       "      <td>1089333</td>\n",
       "    </tr>\n",
       "  </tbody>\n",
       "</table>\n",
       "</div>"
      ],
      "text/plain": [
       "                                                           incident_id\n",
       "fma incsitfoundclass_desc                      alarmlevel             \n",
       "30  SERVICE CALL                               1.0             1089329\n",
       "26  MEDICAL AID / RESCUE CALLS                 1.0             1089330\n",
       "08  HAZARDOUS CONDITIONS                       1.0             1089331\n",
       "13  FIRE/EXPLOSION                             1.0             1089332\n",
       "01  MEDICAL AID / RESCUE CALLS                 1.0             1089333"
      ]
     },
     "execution_count": 16,
     "metadata": {},
     "output_type": "execute_result"
    }
   ],
   "source": [
    "df = df.set_index(['fma','incsitfoundclass_desc','alarmlevel'])\n",
    "df.head(5)"
   ]
  },
  {
   "cell_type": "code",
   "execution_count": 17,
   "metadata": {
    "collapsed": false,
    "deletable": true,
    "editable": true
   },
   "outputs": [
    {
     "data": {
      "text/html": [
       "<div>\n",
       "<table border=\"1\" class=\"dataframe\">\n",
       "  <thead>\n",
       "    <tr style=\"text-align: right;\">\n",
       "      <th></th>\n",
       "      <th>incident_id</th>\n",
       "    </tr>\n",
       "    <tr>\n",
       "      <th>alarmlevel</th>\n",
       "      <th></th>\n",
       "    </tr>\n",
       "  </thead>\n",
       "  <tbody>\n",
       "    <tr>\n",
       "      <th>0.0</th>\n",
       "      <td>1</td>\n",
       "    </tr>\n",
       "    <tr>\n",
       "      <th>1.0</th>\n",
       "      <td>544482</td>\n",
       "    </tr>\n",
       "    <tr>\n",
       "      <th>2.0</th>\n",
       "      <td>548</td>\n",
       "    </tr>\n",
       "    <tr>\n",
       "      <th>3.0</th>\n",
       "      <td>20</td>\n",
       "    </tr>\n",
       "    <tr>\n",
       "      <th>4.0</th>\n",
       "      <td>3</td>\n",
       "    </tr>\n",
       "    <tr>\n",
       "      <th>5.0</th>\n",
       "      <td>2</td>\n",
       "    </tr>\n",
       "    <tr>\n",
       "      <th>9.0</th>\n",
       "      <td>1</td>\n",
       "    </tr>\n",
       "  </tbody>\n",
       "</table>\n",
       "</div>"
      ],
      "text/plain": [
       "            incident_id\n",
       "alarmlevel             \n",
       "0.0                   1\n",
       "1.0              544482\n",
       "2.0                 548\n",
       "3.0                  20\n",
       "4.0                   3\n",
       "5.0                   2\n",
       "9.0                   1"
      ]
     },
     "execution_count": 17,
     "metadata": {},
     "output_type": "execute_result"
    }
   ],
   "source": [
    "df.groupby(level=2).count()"
   ]
  },
  {
   "cell_type": "code",
   "execution_count": 18,
   "metadata": {
    "collapsed": false,
    "deletable": true,
    "editable": true
   },
   "outputs": [
    {
     "data": {
      "text/html": [
       "<div>\n",
       "<table border=\"1\" class=\"dataframe\">\n",
       "  <thead>\n",
       "    <tr style=\"text-align: right;\">\n",
       "      <th></th>\n",
       "      <th></th>\n",
       "      <th>incident_id</th>\n",
       "    </tr>\n",
       "    <tr>\n",
       "      <th>fma</th>\n",
       "      <th>alarmlevel</th>\n",
       "      <th></th>\n",
       "    </tr>\n",
       "  </thead>\n",
       "  <tbody>\n",
       "    <tr>\n",
       "      <th>0</th>\n",
       "      <th>1.0</th>\n",
       "      <td>3</td>\n",
       "    </tr>\n",
       "    <tr>\n",
       "      <th rowspan=\"3\" valign=\"top\">01</th>\n",
       "      <th>1.0</th>\n",
       "      <td>43097</td>\n",
       "    </tr>\n",
       "    <tr>\n",
       "      <th>2.0</th>\n",
       "      <td>40</td>\n",
       "    </tr>\n",
       "    <tr>\n",
       "      <th>3.0</th>\n",
       "      <td>2</td>\n",
       "    </tr>\n",
       "    <tr>\n",
       "      <th rowspan=\"4\" valign=\"top\">02</th>\n",
       "      <th>0.0</th>\n",
       "      <td>1</td>\n",
       "    </tr>\n",
       "    <tr>\n",
       "      <th>1.0</th>\n",
       "      <td>12779</td>\n",
       "    </tr>\n",
       "    <tr>\n",
       "      <th>2.0</th>\n",
       "      <td>23</td>\n",
       "    </tr>\n",
       "    <tr>\n",
       "      <th>3.0</th>\n",
       "      <td>1</td>\n",
       "    </tr>\n",
       "    <tr>\n",
       "      <th rowspan=\"3\" valign=\"top\">03</th>\n",
       "      <th>1.0</th>\n",
       "      <td>30715</td>\n",
       "    </tr>\n",
       "    <tr>\n",
       "      <th>2.0</th>\n",
       "      <td>7</td>\n",
       "    </tr>\n",
       "    <tr>\n",
       "      <th>4.0</th>\n",
       "      <td>1</td>\n",
       "    </tr>\n",
       "    <tr>\n",
       "      <th rowspan=\"3\" valign=\"top\">04</th>\n",
       "      <th>1.0</th>\n",
       "      <td>29804</td>\n",
       "    </tr>\n",
       "    <tr>\n",
       "      <th>2.0</th>\n",
       "      <td>24</td>\n",
       "    </tr>\n",
       "    <tr>\n",
       "      <th>3.0</th>\n",
       "      <td>1</td>\n",
       "    </tr>\n",
       "  </tbody>\n",
       "</table>\n",
       "</div>"
      ],
      "text/plain": [
       "                incident_id\n",
       "fma alarmlevel             \n",
       "0   1.0                   3\n",
       "01  1.0               43097\n",
       "    2.0                  40\n",
       "    3.0                   2\n",
       "02  0.0                   1\n",
       "    1.0               12779\n",
       "    2.0                  23\n",
       "    3.0                   1\n",
       "03  1.0               30715\n",
       "    2.0                   7\n",
       "    4.0                   1\n",
       "04  1.0               29804\n",
       "    2.0                  24\n",
       "    3.0                   1"
      ]
     },
     "execution_count": 18,
     "metadata": {},
     "output_type": "execute_result"
    }
   ],
   "source": [
    "df.groupby(level=[0,2]).count().head(14)"
   ]
  },
  {
   "cell_type": "code",
   "execution_count": 19,
   "metadata": {
    "collapsed": false,
    "deletable": true,
    "editable": true
   },
   "outputs": [
    {
     "data": {
      "text/html": [
       "<div>\n",
       "<table border=\"1\" class=\"dataframe\">\n",
       "  <thead>\n",
       "    <tr style=\"text-align: right;\">\n",
       "      <th></th>\n",
       "      <th></th>\n",
       "      <th>incident_id</th>\n",
       "    </tr>\n",
       "    <tr>\n",
       "      <th>incsitfoundclass_desc</th>\n",
       "      <th>alarmlevel</th>\n",
       "      <th></th>\n",
       "    </tr>\n",
       "  </thead>\n",
       "  <tbody>\n",
       "    <tr>\n",
       "      <th rowspan=\"3\" valign=\"top\">FALSE CALLS</th>\n",
       "      <th>1.0</th>\n",
       "      <td>39174</td>\n",
       "    </tr>\n",
       "    <tr>\n",
       "      <th>2.0</th>\n",
       "      <td>35</td>\n",
       "    </tr>\n",
       "    <tr>\n",
       "      <th>3.0</th>\n",
       "      <td>1</td>\n",
       "    </tr>\n",
       "    <tr>\n",
       "      <th rowspan=\"5\" valign=\"top\">FIRE/EXPLOSION</th>\n",
       "      <th>1.0</th>\n",
       "      <td>16115</td>\n",
       "    </tr>\n",
       "    <tr>\n",
       "      <th>2.0</th>\n",
       "      <td>104</td>\n",
       "    </tr>\n",
       "    <tr>\n",
       "      <th>3.0</th>\n",
       "      <td>8</td>\n",
       "    </tr>\n",
       "    <tr>\n",
       "      <th>4.0</th>\n",
       "      <td>2</td>\n",
       "    </tr>\n",
       "    <tr>\n",
       "      <th>5.0</th>\n",
       "      <td>2</td>\n",
       "    </tr>\n",
       "    <tr>\n",
       "      <th rowspan=\"2\" valign=\"top\">GOOD INTENT CALLS</th>\n",
       "      <th>1.0</th>\n",
       "      <td>24832</td>\n",
       "    </tr>\n",
       "    <tr>\n",
       "      <th>2.0</th>\n",
       "      <td>52</td>\n",
       "    </tr>\n",
       "    <tr>\n",
       "      <th rowspan=\"3\" valign=\"top\">HAZARDOUS CONDITIONS</th>\n",
       "      <th>1.0</th>\n",
       "      <td>10552</td>\n",
       "    </tr>\n",
       "    <tr>\n",
       "      <th>2.0</th>\n",
       "      <td>11</td>\n",
       "    </tr>\n",
       "    <tr>\n",
       "      <th>3.0</th>\n",
       "      <td>1</td>\n",
       "    </tr>\n",
       "    <tr>\n",
       "      <th rowspan=\"5\" valign=\"top\">MEDICAL AID / RESCUE CALLS</th>\n",
       "      <th>0.0</th>\n",
       "      <td>1</td>\n",
       "    </tr>\n",
       "    <tr>\n",
       "      <th>1.0</th>\n",
       "      <td>367869</td>\n",
       "    </tr>\n",
       "    <tr>\n",
       "      <th>2.0</th>\n",
       "      <td>206</td>\n",
       "    </tr>\n",
       "    <tr>\n",
       "      <th>3.0</th>\n",
       "      <td>7</td>\n",
       "    </tr>\n",
       "    <tr>\n",
       "      <th>9.0</th>\n",
       "      <td>1</td>\n",
       "    </tr>\n",
       "    <tr>\n",
       "      <th rowspan=\"2\" valign=\"top\">MUTUAL AID RESPONSE</th>\n",
       "      <th>1.0</th>\n",
       "      <td>250</td>\n",
       "    </tr>\n",
       "    <tr>\n",
       "      <th>2.0</th>\n",
       "      <td>3</td>\n",
       "    </tr>\n",
       "    <tr>\n",
       "      <th rowspan=\"2\" valign=\"top\">NATURAL CONDITIONS</th>\n",
       "      <th>1.0</th>\n",
       "      <td>183</td>\n",
       "    </tr>\n",
       "    <tr>\n",
       "      <th>2.0</th>\n",
       "      <td>2</td>\n",
       "    </tr>\n",
       "    <tr>\n",
       "      <th rowspan=\"3\" valign=\"top\">OTHER SITUATION FOUND</th>\n",
       "      <th>1.0</th>\n",
       "      <td>1472</td>\n",
       "    </tr>\n",
       "    <tr>\n",
       "      <th>2.0</th>\n",
       "      <td>5</td>\n",
       "    </tr>\n",
       "    <tr>\n",
       "      <th>3.0</th>\n",
       "      <td>1</td>\n",
       "    </tr>\n",
       "    <tr>\n",
       "      <th rowspan=\"2\" valign=\"top\">OVER PRESSURE RUPTURE, EXPLOSION, OVERHEAT</th>\n",
       "      <th>1.0</th>\n",
       "      <td>393</td>\n",
       "    </tr>\n",
       "    <tr>\n",
       "      <th>2.0</th>\n",
       "      <td>1</td>\n",
       "    </tr>\n",
       "    <tr>\n",
       "      <th rowspan=\"4\" valign=\"top\">SERVICE CALL</th>\n",
       "      <th>1.0</th>\n",
       "      <td>50911</td>\n",
       "    </tr>\n",
       "    <tr>\n",
       "      <th>2.0</th>\n",
       "      <td>83</td>\n",
       "    </tr>\n",
       "    <tr>\n",
       "      <th>3.0</th>\n",
       "      <td>1</td>\n",
       "    </tr>\n",
       "    <tr>\n",
       "      <th>4.0</th>\n",
       "      <td>1</td>\n",
       "    </tr>\n",
       "  </tbody>\n",
       "</table>\n",
       "</div>"
      ],
      "text/plain": [
       "                                                       incident_id\n",
       "incsitfoundclass_desc                      alarmlevel             \n",
       "FALSE CALLS                                1.0               39174\n",
       "                                           2.0                  35\n",
       "                                           3.0                   1\n",
       "FIRE/EXPLOSION                             1.0               16115\n",
       "                                           2.0                 104\n",
       "                                           3.0                   8\n",
       "                                           4.0                   2\n",
       "                                           5.0                   2\n",
       "GOOD INTENT CALLS                          1.0               24832\n",
       "                                           2.0                  52\n",
       "HAZARDOUS CONDITIONS                       1.0               10552\n",
       "                                           2.0                  11\n",
       "                                           3.0                   1\n",
       "MEDICAL AID / RESCUE CALLS                 0.0                   1\n",
       "                                           1.0              367869\n",
       "                                           2.0                 206\n",
       "                                           3.0                   7\n",
       "                                           9.0                   1\n",
       "MUTUAL AID RESPONSE                        1.0                 250\n",
       "                                           2.0                   3\n",
       "NATURAL CONDITIONS                         1.0                 183\n",
       "                                           2.0                   2\n",
       "OTHER SITUATION FOUND                      1.0                1472\n",
       "                                           2.0                   5\n",
       "                                           3.0                   1\n",
       "OVER PRESSURE RUPTURE, EXPLOSION, OVERHEAT 1.0                 393\n",
       "                                           2.0                   1\n",
       "SERVICE CALL                               1.0               50911\n",
       "                                           2.0                  83\n",
       "                                           3.0                   1\n",
       "                                           4.0                   1"
      ]
     },
     "execution_count": 19,
     "metadata": {},
     "output_type": "execute_result"
    }
   ],
   "source": [
    "df.groupby(level=[1,2]).count()#.reset_index(1).pivot(columns='alarmlevel').plot.barh()"
   ]
  }
 ],
 "metadata": {
  "anaconda-cloud": {},
  "kernelspec": {
   "display_name": "Python 2",
   "language": "python",
   "name": "python2"
  },
  "language_info": {
   "codemirror_mode": {
    "name": "ipython",
    "version": 2
   },
   "file_extension": ".py",
   "mimetype": "text/x-python",
   "name": "python",
   "nbconvert_exporter": "python",
   "pygments_lexer": "ipython2",
   "version": "2.7.13"
  }
 },
 "nbformat": 4,
 "nbformat_minor": 2
}

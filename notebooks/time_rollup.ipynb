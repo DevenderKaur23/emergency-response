{
 "cells": [
  {
   "cell_type": "code",
   "execution_count": 1,
   "metadata": {
    "collapsed": false
   },
   "outputs": [],
   "source": [
    "import os \n",
    "import psycopg2\n",
    "import matplotlib.pyplot as plt\n",
    "import numpy as np\n",
    "import pandas as pd\n",
    "import seaborn as sns\n",
    "%matplotlib inline"
   ]
  },
  {
   "cell_type": "code",
   "execution_count": 2,
   "metadata": {
    "collapsed": false
   },
   "outputs": [
    {
     "data": {
      "text/plain": [
       "True"
      ]
     },
     "execution_count": 2,
     "metadata": {},
     "output_type": "execute_result"
    }
   ],
   "source": [
    "from dotenv import load_dotenv, find_dotenv\n",
    "load_dotenv(find_dotenv('fire_var.env'))"
   ]
  },
  {
   "cell_type": "code",
   "execution_count": 3,
   "metadata": {
    "collapsed": false
   },
   "outputs": [],
   "source": [
    "# connect to postgres\n",
    "\n",
    "try:\n",
    "    conn = psycopg2.connect(database=os.environ.get(\"erdatabase\"), user=os.environ.get(\"eruser\"), \n",
    "                            password = os.environ.get(\"erpassword\"), \n",
    "                            host=os.environ.get(\"erhost\"), \n",
    "                            port=os.environ.get('port'))\n",
    "    \n",
    "except psycopg2.Error as e:\n",
    "    print(\"I am unable to connect to the database\")\n",
    "    print(e)\n",
    "    print(e.pgcode)\n",
    "    print(e.pgerror)\n",
    "    print(traceback.format_exc())"
   ]
  },
  {
   "cell_type": "code",
   "execution_count": 4,
   "metadata": {
    "collapsed": true
   },
   "outputs": [],
   "source": [
    "def pquery(QUERY):\n",
    "    '''\n",
    "    takes SQL query string, opens a cursor, and executes query in psql\n",
    "    '''\n",
    "    \n",
    "    cur = conn.cursor()\n",
    "    \n",
    "    try:\n",
    "        print(\"SQL QUERY = \"+QUERY)\n",
    "        cur.execute(\"SET statement_timeout = 0\")\n",
    "        cur.execute(QUERY)\n",
    "        # Extract the column names and insert them in header\n",
    "        col_names = []\n",
    "        for elt in cur.description:\n",
    "            col_names.append(elt[0])    \n",
    "    \n",
    "        D = cur.fetchall() #convert query result to list\n",
    "        #pprint(D)\n",
    "        #conn.close()\n",
    "        # Create the dataframe, passing in the list of col_names extracted from the description\n",
    "        return pd.DataFrame(D, columns=col_names)\n",
    "\n",
    "    except Exception as e:\n",
    "        print(e.pgerror)\n",
    "\n"
   ]
  },
  {
   "cell_type": "code",
   "execution_count": null,
   "metadata": {
    "collapsed": true
   },
   "outputs": [],
   "source": [
    "QUERY1= '''\n",
    "SELECT incident_id,\n",
    " EXTRACT(DAY FROM realtime) AS day,\n",
    " EXTRACT(HOUR FROM realtime) AS hour,\n",
    " EXTRACT(WEEK FROM realtime) AS week,\n",
    " EXTRACT(MONTH FROM realtime) AS month,\n",
    " EXTRACT(YEAR FROM realtime) AS year\n",
    "FROM (select incident_id,min(realtime) as realtime  from inctimes \n",
    "where responder_id is not null \n",
    "and timedesc_id = 3 group by incident_id) as dispatch_time'''"
   ]
  },
  {
   "cell_type": "code",
   "execution_count": null,
   "metadata": {
    "collapsed": false
   },
   "outputs": [],
   "source": [
    "# There are some instances that the On scene time subtracts dispatch time are negative or more than a day or month. \n",
    "# I assume these records are related to incidents, probably the time point error causes the weird travel time.\n",
    "# So I picked all the incidents that have a dispatch time \n",
    "df1 = pquery(QUERY1)"
   ]
  },
  {
   "cell_type": "code",
   "execution_count": null,
   "metadata": {
    "collapsed": false
   },
   "outputs": [],
   "source": [
    "df1.head(15)"
   ]
  },
  {
   "cell_type": "code",
   "execution_count": null,
   "metadata": {
    "collapsed": false
   },
   "outputs": [],
   "source": [
    "# Check whether there is duplication\n",
    "df1_ = df1.copy()\n",
    "print (len(df1_))\n",
    "df1_.set_index('incident_id').index.get_duplicates()"
   ]
  },
  {
   "cell_type": "code",
   "execution_count": null,
   "metadata": {
    "collapsed": false
   },
   "outputs": [],
   "source": [
    "dayrank = df1.groupby(['day']).size().to_frame('size')\n",
    "dayrank.sort_values('size', ascending=False, inplace=True)\n",
    "dayrank\n",
    "plt.rcdefaults()\n",
    "fig, ax = plt.subplots()\n",
    "\n",
    "# Example data\n",
    "y_pos = np.arange(1,len(dayrank)+1)\n",
    "\n",
    "ax.barh(y_pos, dayrank['size'], align='center',\n",
    "        color='green')\n",
    "ax.set_yticks(y_pos)\n",
    "ax.set_yticklabels(dayrank.index.values)\n",
    "\n",
    "ax.set_title('Incidents count in different days')\n",
    "\n",
    "plt.show()"
   ]
  },
  {
   "cell_type": "code",
   "execution_count": null,
   "metadata": {
    "collapsed": false
   },
   "outputs": [],
   "source": [
    "weekrank = df1.groupby(['week']).size()\n",
    "weekrank_df = pd.DataFrame(weekrank)\n",
    "weekrank_df\n",
    "weekrank_df.columns= ['size']\n",
    "weekrank_df.plot(weekrank.index.values, \"size\", kind=\"barh\", color=sns.color_palette(\"deep\", 3))"
   ]
  },
  {
   "cell_type": "code",
   "execution_count": null,
   "metadata": {
    "collapsed": false,
    "scrolled": true
   },
   "outputs": [],
   "source": [
    "hourrank = df1.groupby(['hour']).size().to_frame('size')\n",
    "hourrank.sort_values('size', ascending=False, inplace=True)\n",
    "hourrank\n",
    "fig3, ax3 = plt.subplots()\n",
    "\n",
    "# Example data\n",
    "y_pos3 = np.arange(1,len(hourrank)+1)\n",
    "\n",
    "ax3.barh(y_pos3, hourrank['size'], align='center',\n",
    "        color='green')\n",
    "ax3.set_yticks(y_pos3)\n",
    "ax3.set_yticklabels(hourrank.index.values)\n",
    "\n",
    "#ax.set_xlabel('Performance')\n",
    "ax3.set_title('Incidents count in different hours')\n",
    "\n",
    "plt.show()"
   ]
  },
  {
   "cell_type": "code",
   "execution_count": null,
   "metadata": {
    "collapsed": true
   },
   "outputs": [],
   "source": [
    "hourrankByYear = df1.groupby(['year','hour']).size().reset_index()\n",
    "hourrankByYear = pd.DataFrame(hourrankByYear)\n",
    "hourrankByYear.columns= ['year','hour','size']\n",
    "grouped2 = hourrankByYear.groupby(['year'])\n",
    "grouped2_l = list(grouped2)"
   ]
  },
  {
   "cell_type": "code",
   "execution_count": null,
   "metadata": {
    "collapsed": false
   },
   "outputs": [],
   "source": [
    "for i in range(len(grouped2_l)-1):\n",
    "    grouped2_l[i][1].iloc[:,-2:].plot(kind = 'bar',title = \"year= \"+str(int(grouped2_l[i][0])))\n",
    "    # Shrink current axis by 20%\n",
    "    ax = plt.subplot()\n",
    "    box = ax.get_position()\n",
    "    ax.set_position([box.x0, box.y0, box.width * 0.8, box.height])"
   ]
  },
  {
   "cell_type": "code",
   "execution_count": null,
   "metadata": {
    "collapsed": false
   },
   "outputs": [],
   "source": [
    "monthrank = df1.groupby(['month']).size().to_frame('size')\n",
    "monthrank.sort_values('size', ascending=False, inplace=True)\n",
    "monthrank\n",
    "fig4, ax4 = plt.subplots()\n",
    "\n",
    "# Example data\n",
    "y_pos4 = np.arange(1,len(monthrank)+1)\n",
    "\n",
    "ax4.barh(y_pos4, monthrank['size'], align='center',\n",
    "        color='green')\n",
    "ax4.set_yticks(y_pos4)\n",
    "ax4.set_yticklabels(monthrank.index.values)\n",
    "\n",
    "#ax.set_xlabel('Performance')\n",
    "ax4.set_title('Incidents count in different months')\n",
    "\n",
    "plt.show()\n"
   ]
  },
  {
   "cell_type": "code",
   "execution_count": null,
   "metadata": {
    "collapsed": false
   },
   "outputs": [],
   "source": [
    "monthrankByYear = df1.groupby(['year','month']).size().reset_index()\n",
    "monthrankByYear = pd.DataFrame(monthrankByYear)\n",
    "monthrankByYear.columns= ['year','month','size']\n",
    "grouped = monthrankByYear.groupby(['year'])\n",
    "grouped_l = list(grouped)\n",
    "\n",
    "\n"
   ]
  },
  {
   "cell_type": "code",
   "execution_count": null,
   "metadata": {
    "collapsed": false
   },
   "outputs": [],
   "source": [
    "for i in range(len(grouped_l)-1):\n",
    "    grouped_l[i][1].iloc[:,-2:].plot(kind = 'bar',title = \"year= \"+str(int(grouped_l[i][0])))\n",
    "    # Shrink current axis by 20%\n",
    "    ax = plt.subplot()\n",
    "    box = ax.get_position()\n",
    "    ax.set_position([box.x0, box.y0, box.width * 0.8, box.height])\n",
    "\n",
    "\n"
   ]
  },
  {
   "cell_type": "code",
   "execution_count": null,
   "metadata": {
    "collapsed": true
   },
   "outputs": [],
   "source": [
    "QUERY2 =\"\"\"\n",
    "select incident_id, holiday \n",
    "from (SELECT incident_id, CAST(realtime AS DATE) \n",
    "      FROM (select incident_id,min(realtime) as realtime\n",
    "            from inctimes \n",
    "             where responder_id is not null \n",
    "                   and timedesc_id = 3 group by incident_id ) as dispatch_time) as date_table\n",
    "                   inner join or_holidays\n",
    "                   on date_table.realtime = or_holidays.date\"\"\""
   ]
  },
  {
   "cell_type": "code",
   "execution_count": null,
   "metadata": {
    "collapsed": false,
    "scrolled": true
   },
   "outputs": [],
   "source": [
    "df2 = pquery(QUERY2)"
   ]
  },
  {
   "cell_type": "code",
   "execution_count": null,
   "metadata": {
    "collapsed": false
   },
   "outputs": [],
   "source": [
    "df2.head()"
   ]
  },
  {
   "cell_type": "code",
   "execution_count": null,
   "metadata": {
    "collapsed": false
   },
   "outputs": [],
   "source": [
    "holidayrank = df2.groupby(['holiday']).size().to_frame('size')\n",
    "holidayrank.sort_values('size', ascending=False, inplace=True)\n",
    "holidayrank\n"
   ]
  },
  {
   "cell_type": "code",
   "execution_count": null,
   "metadata": {
    "collapsed": false
   },
   "outputs": [],
   "source": [
    "holidayrank_df = pd.DataFrame(holidayrank)\n",
    "holidayrank_df.columns= ['size']\n",
    "holidayrank_df.plot(holidayrank.index.values, \"size\", kind=\"barh\", color=sns.color_palette(\"deep\"))"
   ]
  },
  {
   "cell_type": "code",
   "execution_count": 11,
   "metadata": {
    "collapsed": true
   },
   "outputs": [],
   "source": [
    "QUERY3=\"\"\"\n",
    "        SELECT incident_id,incsitfoundclass_id, description,realtime,\n",
    "                         EXTRACT(DAY FROM realtime) AS day,\n",
    "                         EXTRACT(HOUR FROM realtime) AS hour,\n",
    "                         EXTRACT(WEEK FROM realtime) AS week,\n",
    "                         EXTRACT(MONTH FROM realtime) AS month,\n",
    "                         EXTRACT(YEAR FROM realtime) AS year\n",
    "                         FROM\n",
    "                        (SELECT  I.incident_id,S_class.incsitfoundclass_id, S_class.description,T.realtime\n",
    "                        FROM incident as I\n",
    "                        INNER JOIN incsitfound as S\n",
    "                                ON I.incsitfoundprm_id = S.incsitfound_id\n",
    "                        INNER JOIN incsitfoundsub as S_sub\n",
    "                                ON S.incsitfoundsub_id = S_sub.incsitfoundsub_id\n",
    "                        INNER JOIN incsitfoundclass as S_class\n",
    "                                ON S_sub.incsitfoundclass_id = S_class.incsitfoundclass_id\n",
    "                        INNER JOIN inctimes as T\n",
    "                                ON I.incident_id = T.incident_id\n",
    "                        where T.responder_id is not null and T.timedesc_id = 3 \n",
    "                        ) as dispatch_class_time \n",
    "                        ;\"\"\"\n"
   ]
  },
  {
   "cell_type": "code",
   "execution_count": 12,
   "metadata": {
    "collapsed": false
   },
   "outputs": [
    {
     "name": "stdout",
     "output_type": "stream",
     "text": [
      "SQL QUERY = \n",
      "        SELECT incident_id,incsitfoundclass_id, description,realtime,\n",
      "                         EXTRACT(DAY FROM realtime) AS day,\n",
      "                         EXTRACT(HOUR FROM realtime) AS hour,\n",
      "                         EXTRACT(WEEK FROM realtime) AS week,\n",
      "                         EXTRACT(MONTH FROM realtime) AS month,\n",
      "                         EXTRACT(YEAR FROM realtime) AS year\n",
      "                         FROM\n",
      "                        (SELECT  I.incident_id,S_class.incsitfoundclass_id, S_class.description,T.realtime\n",
      "                        FROM incident as I\n",
      "                        INNER JOIN incsitfound as S\n",
      "                                ON I.incsitfoundprm_id = S.incsitfound_id\n",
      "                        INNER JOIN incsitfoundsub as S_sub\n",
      "                                ON S.incsitfoundsub_id = S_sub.incsitfoundsub_id\n",
      "                        INNER JOIN incsitfoundclass as S_class\n",
      "                                ON S_sub.incsitfoundclass_id = S_class.incsitfoundclass_id\n",
      "                        INNER JOIN inctimes as T\n",
      "                                ON I.incident_id = T.incident_id\n",
      "                        where T.responder_id is not null and T.timedesc_id = 3 \n",
      "                        ) as dispatch_class_time \n",
      "                        ;\n"
     ]
    }
   ],
   "source": [
    "df3 = pquery(QUERY3)"
   ]
  },
  {
   "cell_type": "code",
   "execution_count": null,
   "metadata": {
    "collapsed": false
   },
   "outputs": [],
   "source": [
    "df3.head(20)"
   ]
  },
  {
   "cell_type": "code",
   "execution_count": 13,
   "metadata": {
    "collapsed": false
   },
   "outputs": [
    {
     "data": {
      "text/plain": [
       "512276"
      ]
     },
     "execution_count": 13,
     "metadata": {},
     "output_type": "execute_result"
    }
   ],
   "source": [
    "# drop duplicates in 'incident_id'\n",
    " \n",
    "df3 =df3.drop_duplicates('incident_id')\n",
    "len(df3)"
   ]
  },
  {
   "cell_type": "code",
   "execution_count": 14,
   "metadata": {
    "collapsed": false
   },
   "outputs": [
    {
     "data": {
      "text/plain": [
       "368084"
      ]
     },
     "execution_count": 14,
     "metadata": {},
     "output_type": "execute_result"
    }
   ],
   "source": [
    "df3_ = df3.loc[df3['incsitfoundclass_id']==3]\n",
    "len(df3_)"
   ]
  },
  {
   "cell_type": "code",
   "execution_count": 27,
   "metadata": {
    "collapsed": false
   },
   "outputs": [
    {
     "data": {
      "image/png": "[encoded data removed]",
      "text/plain": [
       "<matplotlib.figure.Figure at 0x1a5fae10>"
      ]
     },
     "metadata": {},
     "output_type": "display_data"
    },
    {
     "data": {
      "image/png": "[encoded data removed]",
      "text/plain": [
       "<matplotlib.figure.Figure at 0x3cd639b0>"
      ]
     },
     "metadata": {},
     "output_type": "display_data"
    }
   ],
   "source": [
    "# get the fire and medical incidents counts\n",
    "# normalized by number of days in different months\n",
    "# fire incidents definitely happened more in July and August, there is no particularly high or low month for medical incidents\n",
    "\n",
    "df3_ = df3.loc[df3['incsitfoundclass_id']==3]\n",
    "df3_f = df3.loc[df3['incsitfoundclass_id']==1]\n",
    "\n",
    "\n",
    "days_in_month = [31,28,31,30,31,30,31,31,30,31,30,31]\n",
    "days_in_month = np.array(days_in_month)\n",
    "\n",
    "monthrank2 = df3_f.groupby(['month']).size().to_frame('size')\n",
    "monthrank2.sort_values('size', ascending=False, inplace=True)\n",
    "monthrank2.sort_index(ascending=False, inplace=True)\n",
    "monthrank2['size'] = monthrank2['size']/days_in_month\n",
    "\n",
    "monthrank3 = df3_.groupby(['month']).size().to_frame('size')\n",
    "monthrank3.sort_values('size', ascending=False, inplace=True)\n",
    "monthrank3.sort_index(ascending=False,inplace=True)\n",
    "monthrank3['size'] = monthrank3['size']/days_in_month\n",
    "\n",
    "fig5, ax5= plt.subplots()\n",
    "fig6, ax6= plt.subplots()\n",
    "\n",
    "# Example data\n",
    "y_pos5 = np.arange(1,len(monthrank2)+1)\n",
    "\n",
    "ax5.barh(y_pos5, monthrank2['size'], align='center',\n",
    "        color='green')\n",
    "ax5.set_yticks(y_pos5)\n",
    "ax5.set_yticklabels(monthrank2.index.values)\n",
    "\n",
    "#ax.set_xlabel('Performance')\n",
    "ax5.set_title('Fire incidents count in different months')\n",
    "\n",
    "\n",
    "ax6.barh(y_pos5, monthrank3['size'], align='center',\n",
    "        color='green')\n",
    "ax6.set_yticks(y_pos5)\n",
    "ax6.set_yticklabels(monthrank3.index.values)\n",
    "\n",
    "#ax.set_xlabel('Performance')\n",
    "ax6.set_title('Medical incidents count in different months')\n",
    "\n",
    "\n",
    "plt.show()\n",
    "\n"
   ]
  },
  {
   "cell_type": "code",
   "execution_count": null,
   "metadata": {
    "collapsed": true
   },
   "outputs": [],
   "source": []
  },
  {
   "cell_type": "code",
   "execution_count": null,
   "metadata": {
    "collapsed": true
   },
   "outputs": [],
   "source": []
  }
 ],
 "metadata": {
  "kernelspec": {
   "display_name": "Python [Root]",
   "language": "python",
   "name": "Python [Root]"
  },
  "language_info": {
   "codemirror_mode": {
    "name": "ipython",
    "version": 3
   },
   "file_extension": ".py",
   "mimetype": "text/x-python",
   "name": "python",
   "nbconvert_exporter": "python",
   "pygments_lexer": "ipython3",
   "version": "3.5.2"
  }
 },
 "nbformat": 4,
 "nbformat_minor": 2
}
